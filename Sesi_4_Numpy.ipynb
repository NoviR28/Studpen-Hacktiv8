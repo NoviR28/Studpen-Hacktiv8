{
  "cells": [
    {
      "cell_type": "markdown",
      "metadata": {
        "id": "jy4YEvUcWxCP"
      },
      "source": [
        "###**10 September**"
      ]
    },
    {
      "cell_type": "markdown",
      "metadata": {
        "id": "cePjFK_FXCCq"
      },
      "source": [
        "**Cara membuat array**"
      ]
    },
    {
      "cell_type": "code",
      "execution_count": null,
      "metadata": {
        "colab": {
          "background_save": true
        },
        "id": "VWQhtiTfW16C"
      },
      "outputs": [],
      "source": [
        "import numpy as np\n"
      ]
    },
    {
      "cell_type": "code",
      "execution_count": null,
      "metadata": {
        "colab": {
          "background_save": true,
          "base_uri": "https://localhost:8080/"
        },
        "id": "ah-aQ8BcW19Q",
        "outputId": "08d23d0c-cf90-40a3-c0ac-82a266fdaeca"
      },
      "outputs": [
        {
          "data": {
            "text/plain": [
              "array([ 1,  2,  3,  4, 10])"
            ]
          },
          "execution_count": 38,
          "metadata": {},
          "output_type": "execute_result"
        }
      ],
      "source": [
        "# Menggunakan np.array\n",
        "\n",
        "array1= np.array([1,2,3,4,10])\n",
        "array1"
      ]
    },
    {
      "cell_type": "code",
      "execution_count": null,
      "metadata": {
        "colab": {
          "background_save": true,
          "base_uri": "https://localhost:8080/"
        },
        "id": "wUFgJ9YSW2EI",
        "outputId": "9b3462aa-3a34-4809-b609-139bc4b5ca7a"
      },
      "outputs": [
        {
          "data": {
            "text/plain": [
              "array([0., 0., 0., 0., 0., 0., 0., 0., 0., 0.])"
            ]
          },
          "execution_count": 39,
          "metadata": {},
          "output_type": "execute_result"
        }
      ],
      "source": [
        "# Menggunakan zeros() => array berisi bilangan nol\n",
        "\n",
        "array2=np.zeros(10)\n",
        "array2"
      ]
    },
    {
      "cell_type": "code",
      "execution_count": null,
      "metadata": {
        "colab": {
          "background_save": true,
          "base_uri": "https://localhost:8080/"
        },
        "id": "5XLhug4wW2Gn",
        "outputId": "4e50f720-3dcf-4c4d-f108-c2338db89293"
      },
      "outputs": [
        {
          "data": {
            "text/plain": [
              "array([1., 1., 1., 1., 1., 1., 1., 1., 1., 1.])"
            ]
          },
          "execution_count": 40,
          "metadata": {},
          "output_type": "execute_result"
        }
      ],
      "source": [
        "# Menggunakan ones() => array berisi angka 1 semua\n",
        "\n",
        "array3 = np.ones(10)\n",
        "array3"
      ]
    },
    {
      "cell_type": "code",
      "execution_count": null,
      "metadata": {
        "colab": {
          "background_save": true,
          "base_uri": "https://localhost:8080/"
        },
        "id": "_HgMtMi5W2KH",
        "outputId": "4341100a-9a1d-438f-bdd1-d57be62183f5"
      },
      "outputs": [
        {
          "data": {
            "text/plain": [
              "array([0.0e+000, 2.5e-323, 2.5e-323, 2.5e-323, 2.5e-323])"
            ]
          },
          "execution_count": 41,
          "metadata": {},
          "output_type": "execute_result"
        }
      ],
      "source": [
        "# Menggunakan np.empty() => membuat array dengan isi yg random tergantung dari memori\n",
        "\n",
        "array4= np.empty(5)\n",
        "array4"
      ]
    },
    {
      "cell_type": "code",
      "execution_count": null,
      "metadata": {
        "colab": {
          "background_save": true,
          "base_uri": "https://localhost:8080/"
        },
        "id": "wQxGMhUVWp0B",
        "outputId": "48ba33c1-8b6d-4ef1-b692-6c0dede8d444"
      },
      "outputs": [
        {
          "data": {
            "text/plain": [
              "array([ 1,  4,  7, 10, 13])"
            ]
          },
          "execution_count": 42,
          "metadata": {},
          "output_type": "execute_result"
        }
      ],
      "source": [
        "# Menggunakan np.arange() => membuat array dengan range tertentu\n",
        "\n",
        "array5= np.arange(1,15,3)   # arange(start, stop, step)\n",
        "array5"
      ]
    },
    {
      "cell_type": "code",
      "execution_count": null,
      "metadata": {
        "colab": {
          "background_save": true
        },
        "id": "k30pf8xeLygX"
      },
      "outputs": [],
      "source": [
        "# Menggunakan np.random.random()"
      ]
    },
    {
      "cell_type": "markdown",
      "metadata": {
        "id": "_jTC1jomYkQR"
      },
      "source": [
        "**Penggunaan Add, Remove, and Sort**"
      ]
    },
    {
      "cell_type": "code",
      "execution_count": null,
      "metadata": {
        "colab": {
          "background_save": true,
          "base_uri": "https://localhost:8080/"
        },
        "id": "V8YjUbMCYX9W",
        "outputId": "59979dbc-9f42-432a-c0db-6a9bfbdde69c"
      },
      "outputs": [
        {
          "data": {
            "text/plain": [
              "array([ 1,  4,  7, 10, 13,  1, 10])"
            ]
          },
          "execution_count": 44,
          "metadata": {},
          "output_type": "execute_result"
        }
      ],
      "source": [
        "# Penggunaan np.append() untuk menambah item pada array\n",
        "array5= np.arange(1,15,3)\n",
        "\n",
        "array5= np.append(array5, [1,10])\n",
        "array5\n"
      ]
    },
    {
      "cell_type": "code",
      "execution_count": null,
      "metadata": {
        "colab": {
          "background_save": true,
          "base_uri": "https://localhost:8080/"
        },
        "id": "xgvvRToYYYAH",
        "outputId": "7ea6a546-5f45-4928-9f62-d6cac392b168"
      },
      "outputs": [
        {
          "data": {
            "text/plain": [
              "array([ 1,  4,  7, 10])"
            ]
          },
          "execution_count": 45,
          "metadata": {},
          "output_type": "execute_result"
        }
      ],
      "source": [
        "# Penggunaan np.delete() untuk menghapus item pada array\n",
        "array5= np.arange(1,15,3)\n",
        "array5= np.delete(array5,[-1])\n",
        "\n",
        "array5"
      ]
    },
    {
      "cell_type": "code",
      "execution_count": null,
      "metadata": {
        "colab": {
          "background_save": true,
          "base_uri": "https://localhost:8080/"
        },
        "id": "FPmjECKuYYCi",
        "outputId": "e5cef22e-bd46-4382-eb9f-2a8adaa68b9d"
      },
      "outputs": [
        {
          "data": {
            "text/plain": [
              "array([ 1,  1,  3,  4,  4,  5,  7, 20, 31, 36])"
            ]
          },
          "execution_count": 46,
          "metadata": {},
          "output_type": "execute_result"
        }
      ],
      "source": [
        "# Penggunaan sort() untuk mengurutkan item dari nilai terkecil\n",
        "array5= np.array([1,20,3,4,1,5,36,7,4,31])\n",
        "\n",
        "array5=np.sort(array5)\n",
        "array5\n"
      ]
    },
    {
      "cell_type": "markdown",
      "metadata": {
        "id": "uKwRGzM8iiG1"
      },
      "source": [
        "**Shape dan Size Array**"
      ]
    },
    {
      "cell_type": "code",
      "execution_count": null,
      "metadata": {
        "colab": {
          "background_save": true,
          "base_uri": "https://localhost:8080/"
        },
        "id": "P5ucKuFXYYFK",
        "outputId": "929b8542-2b9e-4925-ac3b-3b89fb106e15"
      },
      "outputs": [
        {
          "data": {
            "text/plain": [
              "(10,)"
            ]
          },
          "execution_count": 47,
          "metadata": {},
          "output_type": "execute_result"
        }
      ],
      "source": [
        "# Penggunaan .ndim, .size, dan .shape\n",
        "\n",
        "array5= np.array([1,20,3,4,1,5,36,7,4,31])\n",
        "array5.ndim  # Untuk melihat dimensi array\n",
        "\n",
        "array5.size  # Untuk melihat jumlah item pada array\n",
        "\n",
        "array5.shape # Untuk melihat kolom x baris array"
      ]
    },
    {
      "cell_type": "markdown",
      "metadata": {
        "id": "ogRXW-88nBqg"
      },
      "source": [
        "**Reshape dan Resize**"
      ]
    },
    {
      "cell_type": "code",
      "execution_count": null,
      "metadata": {
        "colab": {
          "background_save": true,
          "base_uri": "https://localhost:8080/"
        },
        "id": "a-JFbE93YYHn",
        "outputId": "05abcfbf-e2dd-4c3a-89ac-3902bf958084"
      },
      "outputs": [
        {
          "data": {
            "text/plain": [
              "array([[ 1, 20,  3,  4,  1],\n",
              "       [ 5, 36,  7,  4, 31]])"
            ]
          },
          "execution_count": 48,
          "metadata": {},
          "output_type": "execute_result"
        }
      ],
      "source": [
        "# Penggunaan reshape() untuk mengubah array ke dalam dimensi baru tanpa mengubah datanya\n",
        "array5= np.array([1,20,3,4,1,5,36,7,4,31])\n",
        "\n",
        "array5=array5.reshape(2,5)\n",
        "array5"
      ]
    },
    {
      "cell_type": "code",
      "execution_count": null,
      "metadata": {
        "colab": {
          "background_save": true
        },
        "id": "Vv1BND0oYYJj"
      },
      "outputs": [],
      "source": [
        "# Penggunaan resize() untuk mengubah ukuran array baik dengan menghapus atau menamabh suatu elemen atau tidak sama seklali\n",
        "array5= np.array([1,20,3,4,1,5,36,7,4,31])\n",
        "\n",
        "array5=array5.resize(2,5)"
      ]
    },
    {
      "cell_type": "markdown",
      "metadata": {
        "id": "s0SA55uA9G9v"
      },
      "source": [
        "**Penggunaan Newaxis Array 1D ke 2D, dts**"
      ]
    },
    {
      "cell_type": "code",
      "execution_count": null,
      "metadata": {
        "colab": {
          "background_save": true,
          "base_uri": "https://localhost:8080/"
        },
        "id": "uTPgTYV5YYM5",
        "outputId": "f87308ff-f65c-454c-aa6c-d0a1b2673805"
      },
      "outputs": [
        {
          "data": {
            "text/plain": [
              "(1, 10)"
            ]
          },
          "execution_count": 50,
          "metadata": {},
          "output_type": "execute_result"
        }
      ],
      "source": [
        "array1= np.array([1,20,3,4,1,5,36,7,4,31])\n",
        "\n",
        "array2=array1[np.newaxis]\n",
        "np.shape(array2)"
      ]
    },
    {
      "cell_type": "markdown",
      "metadata": {
        "id": "qT-DMObT-n0Q"
      },
      "source": [
        "**Indexing dan Slicing**"
      ]
    },
    {
      "cell_type": "code",
      "execution_count": null,
      "metadata": {
        "colab": {
          "background_save": true,
          "base_uri": "https://localhost:8080/"
        },
        "id": "avXalasFqZnI",
        "outputId": "799b5a70-2189-45b4-9ba1-94123e5c115b"
      },
      "outputs": [
        {
          "data": {
            "text/plain": [
              "array([20,  3,  4,  1])"
            ]
          },
          "execution_count": 51,
          "metadata": {},
          "output_type": "execute_result"
        }
      ],
      "source": [
        "# Sederhana\n",
        "array1= np.array([1,20,3,4,1,5,36,7,4,31])\n",
        "\n",
        "array1[1:5]\n"
      ]
    },
    {
      "cell_type": "code",
      "execution_count": null,
      "metadata": {
        "colab": {
          "background_save": true,
          "base_uri": "https://localhost:8080/"
        },
        "id": "nFpjK4uLqZpw",
        "outputId": "e59fba32-3fd3-41db-872d-88cbcda69c42"
      },
      "outputs": [
        {
          "data": {
            "text/plain": [
              "array([1, 3, 4, 1, 5, 7, 4])"
            ]
          },
          "execution_count": 52,
          "metadata": {},
          "output_type": "execute_result"
        }
      ],
      "source": [
        "# Advanced\n",
        "\n",
        "array1= np.array([1,20,3,4,1,5,36,7,4,31])\n",
        "\n",
        "array1[array1<10]   # Bisa digunakan pada kondisi lainnya"
      ]
    },
    {
      "cell_type": "markdown",
      "metadata": {
        "id": "PRaq7QcP_Kbl"
      },
      "source": [
        "**Creating array from Existing Data**"
      ]
    },
    {
      "cell_type": "code",
      "execution_count": null,
      "metadata": {
        "colab": {
          "background_save": true,
          "base_uri": "https://localhost:8080/"
        },
        "id": "x1xWuMD4qZsN",
        "outputId": "c4a00cc1-6b5c-4ff1-d14c-142e814c24ab"
      },
      "outputs": [
        {
          "data": {
            "text/plain": [
              "array([1, 3, 4, 1, 5, 7, 4])"
            ]
          },
          "execution_count": 53,
          "metadata": {},
          "output_type": "execute_result"
        }
      ],
      "source": [
        "# Menggunakan slicing\n",
        "array1= np.array([1,20,3,4,1,5,36,7,4,31])\n",
        "\n",
        "array2 = array1[array1<10]   # Bisa digunakan pada kondisi lainnya\n",
        "\n",
        "array2"
      ]
    },
    {
      "cell_type": "markdown",
      "metadata": {
        "id": "JylcSE4XA-9o"
      },
      "source": [
        "Penggunaan vstack() dan hstack()"
      ]
    },
    {
      "cell_type": "code",
      "execution_count": null,
      "metadata": {
        "colab": {
          "background_save": true,
          "base_uri": "https://localhost:8080/"
        },
        "id": "5Ven_qHSqZud",
        "outputId": "dbe2e458-616a-4342-e370-0e6f94543d5f"
      },
      "outputs": [
        {
          "data": {
            "text/plain": [
              "array([[ 1, 20,  3,  4,  1,  5, 36,  7,  4, 31],\n",
              "       [ 1,  2,  3,  4,  5,  6,  7,  8,  9, 10]])"
            ]
          },
          "execution_count": 54,
          "metadata": {},
          "output_type": "execute_result"
        }
      ],
      "source": [
        "# Menggunakan vstack() untuk menumpuk secara vertikal\n",
        "array1= np.array([1,20,3,4,1,5,36,7,4,31])\n",
        "array2= np.arange(1,11)\n",
        "\n",
        "array3= np.vstack((array1,array2))\n",
        "array3"
      ]
    },
    {
      "cell_type": "code",
      "execution_count": null,
      "metadata": {
        "colab": {
          "background_save": true,
          "base_uri": "https://localhost:8080/"
        },
        "id": "YjqDsUMjqZxI",
        "outputId": "44e54c27-3c35-4410-972f-5bf991bd1e0c"
      },
      "outputs": [
        {
          "data": {
            "text/plain": [
              "array([ 1, 20,  3,  4,  1,  5, 36,  7,  4, 31,  1,  2,  3,  4,  5,  6,  7,\n",
              "        8,  9, 10])"
            ]
          },
          "execution_count": 55,
          "metadata": {},
          "output_type": "execute_result"
        }
      ],
      "source": [
        "# Menggunakan hstack() untuk menumpuk secara horizontal\n",
        "array1= np.array([1,20,3,4,1,5,36,7,4,31])\n",
        "array2= np.arange(1,11)\n",
        "\n",
        "array3= np.hstack((array1,array2))\n",
        "array3"
      ]
    },
    {
      "cell_type": "markdown",
      "metadata": {
        "id": "r-P2R0GbBVi0"
      },
      "source": [
        "Penggunaan hsplit dan vsplit"
      ]
    },
    {
      "cell_type": "code",
      "execution_count": null,
      "metadata": {
        "colab": {
          "background_save": true,
          "base_uri": "https://localhost:8080/"
        },
        "id": "0jipfRbVqZ0Z",
        "outputId": "4667b1ec-9d92-4e0f-ecd1-64ad1ca83214"
      },
      "outputs": [
        {
          "data": {
            "text/plain": [
              "[array([[ 1, 20,  3,  4,  1,  5, 36,  7,  4, 31]]),\n",
              " array([[ 1,  2,  3,  4,  5,  6,  7,  8,  9, 10]])]"
            ]
          },
          "execution_count": 56,
          "metadata": {},
          "output_type": "execute_result"
        }
      ],
      "source": [
        "array1= np.array([1,20,3,4,1,5,36,7,4,31])\n",
        "array2= np.arange(1,11)\n",
        "\n",
        "array3= np.vstack((array1,array2))\n",
        "\n",
        "\n",
        "# Kemudian displit\n",
        "\n",
        "np.vsplit(array3,2)"
      ]
    },
    {
      "cell_type": "code",
      "execution_count": null,
      "metadata": {
        "colab": {
          "background_save": true,
          "base_uri": "https://localhost:8080/"
        },
        "id": "qN9iA8lNBYnc",
        "outputId": "904005eb-77ee-4c18-9654-0b0c3c5f0687"
      },
      "outputs": [
        {
          "data": {
            "text/plain": [
              "[array([ 1, 20,  3,  4,  1]),\n",
              " array([ 5, 36,  7,  4, 31]),\n",
              " array([1, 2, 3, 4, 5]),\n",
              " array([ 6,  7,  8,  9, 10])]"
            ]
          },
          "execution_count": 57,
          "metadata": {},
          "output_type": "execute_result"
        }
      ],
      "source": [
        "# Menggunakan hstack() untuk menumpuk secara horizontal\n",
        "array1= np.array([1,20,3,4,1,5,36,7,4,31])\n",
        "array2= np.arange(1,11)\n",
        "\n",
        "array3= np.hstack((array1,array2))\n",
        "\n",
        "# Kemudian displit\n",
        "\n",
        "np.hsplit(array3,4)"
      ]
    },
    {
      "cell_type": "markdown",
      "metadata": {
        "id": "2DxYWaMWDniF"
      },
      "source": [
        "Menggunakan copy() atau view()"
      ]
    },
    {
      "cell_type": "markdown",
      "metadata": {
        "id": "71JY0erbDsvb"
      },
      "source": [
        "**Basic Operation di Array**"
      ]
    },
    {
      "cell_type": "markdown",
      "metadata": {
        "id": "iwpJf5dgH1Eq"
      },
      "source": [
        "Penggunaan array memungkinkan terjadinya operasi matematika baik itu pengurangan, penjumlaha, perkalian ataupun pembagian dengan array lain atau dengan bilangan skalar."
      ]
    },
    {
      "cell_type": "code",
      "execution_count": null,
      "metadata": {
        "colab": {
          "background_save": true,
          "base_uri": "https://localhost:8080/"
        },
        "id": "GqCGyG_QBYp5",
        "outputId": "4f8c01a5-1a71-4cc8-e3e1-c1fc35e00507"
      },
      "outputs": [
        {
          "data": {
            "text/plain": [
              "array([ 6,  9, 18])"
            ]
          },
          "execution_count": 58,
          "metadata": {},
          "output_type": "execute_result"
        }
      ],
      "source": [
        "array1= np.array([[1,2,3],\n",
        "                   [2,3,4],\n",
        "                   [8,6,4]])\n",
        "# Menggunakan function sum()\n",
        "\n",
        "array2= array1.sum(axis=1)\n",
        "array2"
      ]
    },
    {
      "cell_type": "markdown",
      "metadata": {
        "id": "_DX4fDtuKYxX"
      },
      "source": [
        "**Beberapa Function lainnya**"
      ]
    },
    {
      "cell_type": "markdown",
      "metadata": {
        "id": "7RPsZ7sELi_N"
      },
      "source": [
        "1. Function .max()\n",
        "2. Function .min()\n",
        "3. Function .sum()"
      ]
    },
    {
      "cell_type": "code",
      "execution_count": null,
      "metadata": {
        "colab": {
          "background_save": true,
          "base_uri": "https://localhost:8080/"
        },
        "id": "EOEAF-yVBYsP",
        "outputId": "46d1b1bb-c22c-4a88-f6c9-0c2a77a05296"
      },
      "outputs": [
        {
          "data": {
            "text/plain": [
              "array([[0.0025778 , 0.43462916, 0.17732504, 0.02086259, 0.45188607],\n",
              "       [0.28693504, 0.28495896, 0.01046639, 0.74895309, 0.24530487]])"
            ]
          },
          "execution_count": 59,
          "metadata": {},
          "output_type": "execute_result"
        }
      ],
      "source": [
        "np.random.random((2,5))"
      ]
    },
    {
      "cell_type": "markdown",
      "metadata": {
        "id": "2QgGf8mpM1be"
      },
      "source": [
        "**Function Transpose**"
      ]
    },
    {
      "cell_type": "code",
      "execution_count": null,
      "metadata": {
        "colab": {
          "background_save": true
        },
        "id": "AG0vUJhxBYul",
        "outputId": "cad3a1f8-7308-4f9c-d99e-d0a6d2e30581"
      },
      "outputs": [
        {
          "data": {
            "text/plain": [
              "array([[1, 4],\n",
              "       [2, 5],\n",
              "       [3, 6]])"
            ]
          },
          "execution_count": 60,
          "metadata": {},
          "output_type": "execute_result"
        }
      ],
      "source": [
        "data= np.array([[1,2,3],[4,5,6]])\n",
        "\n",
        "d"
      ]
    }
  ],
  "metadata": {
    "colab": {
      "provenance": []
    },
    "kernelspec": {
      "display_name": "Python 3",
      "name": "python3"
    },
    "language_info": {
      "name": "python"
    }
  },
  "nbformat": 4,
  "nbformat_minor": 0
}