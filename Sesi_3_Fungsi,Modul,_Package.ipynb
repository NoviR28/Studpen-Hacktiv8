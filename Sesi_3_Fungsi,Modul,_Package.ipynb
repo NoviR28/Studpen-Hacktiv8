{
  "nbformat": 4,
  "nbformat_minor": 0,
  "metadata": {
    "colab": {
      "provenance": []
    },
    "kernelspec": {
      "name": "python3",
      "display_name": "Python 3"
    },
    "language_info": {
      "name": "python"
    }
  },
  "cells": [
    {
      "cell_type": "markdown",
      "source": [
        "# **8 September 2023**"
      ],
      "metadata": {
        "id": "rrjGA0xPpcvG"
      }
    },
    {
      "cell_type": "markdown",
      "source": [
        "**Penggunaan Return**"
      ],
      "metadata": {
        "id": "_ZvCpKg-XHQq"
      }
    },
    {
      "cell_type": "code",
      "execution_count": null,
      "metadata": {
        "id": "zIgMzB0NpK12",
        "colab": {
          "base_uri": "https://localhost:8080/"
        },
        "outputId": "9589c98f-ad3d-43e3-b38d-7366d61bf34f"
      },
      "outputs": [
        {
          "output_type": "stream",
          "name": "stdout",
          "text": [
            "Hasil penjumlahan yaitu 20\n",
            "Hasil penjumlahan yaitu 200\n"
          ]
        }
      ],
      "source": [
        "# Hanya menggunakan print\n",
        "def tambah(x):\n",
        "  hasil = x+x\n",
        "  print(f\"Hasil penjumlahan yaitu {hasil}\")\n",
        "\n",
        "tambah(10)\n",
        "tambah(100)"
      ]
    },
    {
      "cell_type": "code",
      "source": [
        "# Hanya menggunakan return\n",
        "def tambah(x):\n",
        "  hasil = x+x\n",
        "  return(f\"Hasil penjumlahan yaitu {hasil}\")\n",
        "\n",
        "tambah(10)\n",
        "tambah(100)"
      ],
      "metadata": {
        "id": "BZTd30WGpgzG",
        "colab": {
          "base_uri": "https://localhost:8080/",
          "height": 36
        },
        "outputId": "1fc368e7-52b1-4f01-b98f-9bf6cb9e93b6"
      },
      "execution_count": null,
      "outputs": [
        {
          "output_type": "execute_result",
          "data": {
            "text/plain": [
              "'Hasil penjumlahan yaitu 200'"
            ],
            "application/vnd.google.colaboratory.intrinsic+json": {
              "type": "string"
            }
          },
          "metadata": {},
          "execution_count": 7
        }
      ]
    },
    {
      "cell_type": "code",
      "source": [
        "# Hanya menggunakan print dan return\n",
        "def tambah(x):\n",
        "  hasil = x+x\n",
        "  print(f\"Hasil penjumlahan yaitu {hasil}\")\n",
        "  return;\n",
        "\n",
        "tambah(10)\n",
        "tambah(100)"
      ],
      "metadata": {
        "id": "tR1QW8APpg1o",
        "colab": {
          "base_uri": "https://localhost:8080/"
        },
        "outputId": "4c36c53b-4961-4d5b-ac6d-0c3d962c3b4d"
      },
      "execution_count": null,
      "outputs": [
        {
          "output_type": "stream",
          "name": "stdout",
          "text": [
            "Hasil penjumlahan yaitu 20\n",
            "Hasil penjumlahan yaitu 200\n"
          ]
        }
      ]
    },
    {
      "cell_type": "markdown",
      "source": [
        "**Membuat fungsi tanpa nama menggunakan lamda => hasilnya berupa function in one-line**"
      ],
      "metadata": {
        "id": "v69-SUiaZqZ2"
      }
    },
    {
      "cell_type": "code",
      "source": [
        "kuadrat = lambda x : x**2\n",
        "tambah = lambda val1,val2,val3 : val1+val2+val3\n",
        "\n",
        "kuadrat(3)\n",
        "tambah(2,100,92)"
      ],
      "metadata": {
        "id": "6NdMILiZpg4G",
        "colab": {
          "base_uri": "https://localhost:8080/"
        },
        "outputId": "7d743c9c-892a-41af-83b6-d8730422a634"
      },
      "execution_count": null,
      "outputs": [
        {
          "output_type": "execute_result",
          "data": {
            "text/plain": [
              "9"
            ]
          },
          "metadata": {},
          "execution_count": 10
        }
      ]
    },
    {
      "cell_type": "markdown",
      "source": [
        "##**Modul**\n",
        "\n",
        "**Penulisan function dianjurkan dalam sebuah modul** berikut beberapa alasanya:\n",
        "- **simplicity** , 1 modul bisa difokuskan untuk 1 fungsi\n",
        "- **maintainibility**, apabila terjadi kesalahan maka memperbaikinya akan mudah karena tidak akan mempengaruhi fungsi-fungsi lain.\n",
        "- **reusability**, dapat dengan mudah digunakan kembali\n",
        "- **scooping**, scooping atau penentuan variabel akan lebih jelas dan mengurangi kemungkinan tabrakan dengan identifier pemrogram lain.\n",
        "\n",
        "**Cara mengakses** modul dapat dilakukan dengan cara, antara lain:\n",
        "- Import statement\n",
        "- Modul path\n",
        "\n",
        "\n",
        "Modul dapat **diimport dalam dua bentuk** yaitu\n",
        "- Dalam bentuk script\n",
        "- Dalam bentuk module\n",
        "\n",
        "###**Packages**\n",
        "**Packages** berisi sekumpulan modul"
      ],
      "metadata": {
        "id": "4HRJJSFpcDDM"
      }
    }
  ]
}