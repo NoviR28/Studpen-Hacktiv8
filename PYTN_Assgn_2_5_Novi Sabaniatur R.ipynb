{
 "cells": [
  {
   "cell_type": "markdown",
   "id": "66ae6171",
   "metadata": {},
   "source": [
    "#  4 Oktober 2023"
   ]
  },
  {
   "cell_type": "code",
   "execution_count": 1,
   "id": "dbf29f0c",
   "metadata": {},
   "outputs": [],
   "source": [
    "import pandas as pd\n",
    "import numpy as np"
   ]
  },
  {
   "cell_type": "code",
   "execution_count": 2,
   "id": "325fb3be",
   "metadata": {
    "scrolled": true
   },
   "outputs": [
    {
     "data": {
      "text/html": [
       "<div>\n",
       "<style scoped>\n",
       "    .dataframe tbody tr th:only-of-type {\n",
       "        vertical-align: middle;\n",
       "    }\n",
       "\n",
       "    .dataframe tbody tr th {\n",
       "        vertical-align: top;\n",
       "    }\n",
       "\n",
       "    .dataframe thead th {\n",
       "        text-align: right;\n",
       "    }\n",
       "</style>\n",
       "<table border=\"1\" class=\"dataframe\">\n",
       "  <thead>\n",
       "    <tr style=\"text-align: right;\">\n",
       "      <th></th>\n",
       "      <th>Unnamed: 0</th>\n",
       "      <th>BOROUGH</th>\n",
       "      <th>NEIGHBORHOOD</th>\n",
       "      <th>BUILDING CLASS CATEGORY</th>\n",
       "      <th>TAX CLASS AT PRESENT</th>\n",
       "      <th>BLOCK</th>\n",
       "      <th>LOT</th>\n",
       "      <th>EASE-MENT</th>\n",
       "      <th>BUILDING CLASS AT PRESENT</th>\n",
       "      <th>ADDRESS</th>\n",
       "      <th>...</th>\n",
       "      <th>RESIDENTIAL UNITS</th>\n",
       "      <th>COMMERCIAL UNITS</th>\n",
       "      <th>TOTAL UNITS</th>\n",
       "      <th>LAND SQUARE FEET</th>\n",
       "      <th>GROSS SQUARE FEET</th>\n",
       "      <th>YEAR BUILT</th>\n",
       "      <th>TAX CLASS AT TIME OF SALE</th>\n",
       "      <th>BUILDING CLASS AT TIME OF SALE</th>\n",
       "      <th>SALE PRICE</th>\n",
       "      <th>SALE DATE</th>\n",
       "    </tr>\n",
       "  </thead>\n",
       "  <tbody>\n",
       "    <tr>\n",
       "      <th>0</th>\n",
       "      <td>4</td>\n",
       "      <td>1</td>\n",
       "      <td>ALPHABET CITY</td>\n",
       "      <td>07 RENTALS - WALKUP APARTMENTS</td>\n",
       "      <td>2A</td>\n",
       "      <td>392</td>\n",
       "      <td>6</td>\n",
       "      <td></td>\n",
       "      <td>C2</td>\n",
       "      <td>153 AVENUE B</td>\n",
       "      <td>...</td>\n",
       "      <td>5</td>\n",
       "      <td>0</td>\n",
       "      <td>5</td>\n",
       "      <td>1633</td>\n",
       "      <td>6440</td>\n",
       "      <td>1900</td>\n",
       "      <td>2</td>\n",
       "      <td>C2</td>\n",
       "      <td>6625000</td>\n",
       "      <td>2017-07-19 00:00:00</td>\n",
       "    </tr>\n",
       "    <tr>\n",
       "      <th>1</th>\n",
       "      <td>5</td>\n",
       "      <td>1</td>\n",
       "      <td>ALPHABET CITY</td>\n",
       "      <td>07 RENTALS - WALKUP APARTMENTS</td>\n",
       "      <td>2</td>\n",
       "      <td>399</td>\n",
       "      <td>26</td>\n",
       "      <td></td>\n",
       "      <td>C7</td>\n",
       "      <td>234 EAST 4TH   STREET</td>\n",
       "      <td>...</td>\n",
       "      <td>28</td>\n",
       "      <td>3</td>\n",
       "      <td>31</td>\n",
       "      <td>4616</td>\n",
       "      <td>18690</td>\n",
       "      <td>1900</td>\n",
       "      <td>2</td>\n",
       "      <td>C7</td>\n",
       "      <td>-</td>\n",
       "      <td>2016-12-14 00:00:00</td>\n",
       "    </tr>\n",
       "    <tr>\n",
       "      <th>2</th>\n",
       "      <td>6</td>\n",
       "      <td>1</td>\n",
       "      <td>ALPHABET CITY</td>\n",
       "      <td>07 RENTALS - WALKUP APARTMENTS</td>\n",
       "      <td>2</td>\n",
       "      <td>399</td>\n",
       "      <td>39</td>\n",
       "      <td></td>\n",
       "      <td>C7</td>\n",
       "      <td>197 EAST 3RD   STREET</td>\n",
       "      <td>...</td>\n",
       "      <td>16</td>\n",
       "      <td>1</td>\n",
       "      <td>17</td>\n",
       "      <td>2212</td>\n",
       "      <td>7803</td>\n",
       "      <td>1900</td>\n",
       "      <td>2</td>\n",
       "      <td>C7</td>\n",
       "      <td>-</td>\n",
       "      <td>2016-12-09 00:00:00</td>\n",
       "    </tr>\n",
       "    <tr>\n",
       "      <th>3</th>\n",
       "      <td>7</td>\n",
       "      <td>1</td>\n",
       "      <td>ALPHABET CITY</td>\n",
       "      <td>07 RENTALS - WALKUP APARTMENTS</td>\n",
       "      <td>2B</td>\n",
       "      <td>402</td>\n",
       "      <td>21</td>\n",
       "      <td></td>\n",
       "      <td>C4</td>\n",
       "      <td>154 EAST 7TH STREET</td>\n",
       "      <td>...</td>\n",
       "      <td>10</td>\n",
       "      <td>0</td>\n",
       "      <td>10</td>\n",
       "      <td>2272</td>\n",
       "      <td>6794</td>\n",
       "      <td>1913</td>\n",
       "      <td>2</td>\n",
       "      <td>C4</td>\n",
       "      <td>3936272</td>\n",
       "      <td>2016-09-23 00:00:00</td>\n",
       "    </tr>\n",
       "    <tr>\n",
       "      <th>4</th>\n",
       "      <td>8</td>\n",
       "      <td>1</td>\n",
       "      <td>ALPHABET CITY</td>\n",
       "      <td>07 RENTALS - WALKUP APARTMENTS</td>\n",
       "      <td>2A</td>\n",
       "      <td>404</td>\n",
       "      <td>55</td>\n",
       "      <td></td>\n",
       "      <td>C2</td>\n",
       "      <td>301 EAST 10TH   STREET</td>\n",
       "      <td>...</td>\n",
       "      <td>6</td>\n",
       "      <td>0</td>\n",
       "      <td>6</td>\n",
       "      <td>2369</td>\n",
       "      <td>4615</td>\n",
       "      <td>1900</td>\n",
       "      <td>2</td>\n",
       "      <td>C2</td>\n",
       "      <td>8000000</td>\n",
       "      <td>2016-11-17 00:00:00</td>\n",
       "    </tr>\n",
       "  </tbody>\n",
       "</table>\n",
       "<p>5 rows × 22 columns</p>\n",
       "</div>"
      ],
      "text/plain": [
       "   Unnamed: 0  BOROUGH   NEIGHBORHOOD  \\\n",
       "0           4        1  ALPHABET CITY   \n",
       "1           5        1  ALPHABET CITY   \n",
       "2           6        1  ALPHABET CITY   \n",
       "3           7        1  ALPHABET CITY   \n",
       "4           8        1  ALPHABET CITY   \n",
       "\n",
       "                       BUILDING CLASS CATEGORY TAX CLASS AT PRESENT  BLOCK  \\\n",
       "0  07 RENTALS - WALKUP APARTMENTS                                2A    392   \n",
       "1  07 RENTALS - WALKUP APARTMENTS                                 2    399   \n",
       "2  07 RENTALS - WALKUP APARTMENTS                                 2    399   \n",
       "3  07 RENTALS - WALKUP APARTMENTS                                2B    402   \n",
       "4  07 RENTALS - WALKUP APARTMENTS                                2A    404   \n",
       "\n",
       "   LOT EASE-MENT BUILDING CLASS AT PRESENT                 ADDRESS  ...  \\\n",
       "0    6                                  C2            153 AVENUE B  ...   \n",
       "1   26                                  C7   234 EAST 4TH   STREET  ...   \n",
       "2   39                                  C7   197 EAST 3RD   STREET  ...   \n",
       "3   21                                  C4     154 EAST 7TH STREET  ...   \n",
       "4   55                                  C2  301 EAST 10TH   STREET  ...   \n",
       "\n",
       "  RESIDENTIAL UNITS  COMMERCIAL UNITS  TOTAL UNITS  LAND SQUARE FEET  \\\n",
       "0                 5                 0            5              1633   \n",
       "1                28                 3           31              4616   \n",
       "2                16                 1           17              2212   \n",
       "3                10                 0           10              2272   \n",
       "4                 6                 0            6              2369   \n",
       "\n",
       "   GROSS SQUARE FEET YEAR BUILT TAX CLASS AT TIME OF SALE  \\\n",
       "0               6440       1900                         2   \n",
       "1              18690       1900                         2   \n",
       "2               7803       1900                         2   \n",
       "3               6794       1913                         2   \n",
       "4               4615       1900                         2   \n",
       "\n",
       "   BUILDING CLASS AT TIME OF SALE  SALE PRICE            SALE DATE  \n",
       "0                              C2     6625000  2017-07-19 00:00:00  \n",
       "1                              C7         -    2016-12-14 00:00:00  \n",
       "2                              C7         -    2016-12-09 00:00:00  \n",
       "3                              C4     3936272  2016-09-23 00:00:00  \n",
       "4                              C2     8000000  2016-11-17 00:00:00  \n",
       "\n",
       "[5 rows x 22 columns]"
      ]
     },
     "execution_count": 2,
     "metadata": {},
     "output_type": "execute_result"
    }
   ],
   "source": [
    "df= pd.read_csv(\"nyc-rolling-sales.csv\")\n",
    "df.head()"
   ]
  },
  {
   "cell_type": "markdown",
   "id": "8b21e6de",
   "metadata": {},
   "source": [
    "# Step 2: Cek Kolom\t"
   ]
  },
  {
   "cell_type": "markdown",
   "id": "0ae07ae5",
   "metadata": {},
   "source": [
    "### 1. Hapus Kolom yang Tidak akan Digunakan\n",
    "\n",
    "Kolom yang tidak digunakan yaitu Unnamed:0,NEIGHBORHOOD, BLOCK, TAX CLASS AT TIME OF SALE, BUILDING CLASS AT PRESENT, BUILDING CLASS AT TIME OF SALE, GROSS SQUARE FEET, dll."
   ]
  },
  {
   "cell_type": "code",
   "execution_count": 3,
   "id": "9f56cd88",
   "metadata": {
    "scrolled": false
   },
   "outputs": [
    {
     "name": "stdout",
     "output_type": "stream",
     "text": [
      "<class 'pandas.core.frame.DataFrame'>\n",
      "RangeIndex: 84548 entries, 0 to 84547\n",
      "Data columns (total 9 columns):\n",
      " #   Column                   Non-Null Count  Dtype \n",
      "---  ------                   --------------  ----- \n",
      " 0   BOROUGH                  84548 non-null  int64 \n",
      " 1   BUILDING CLASS CATEGORY  84548 non-null  object\n",
      " 2   RESIDENTIAL UNITS        84548 non-null  int64 \n",
      " 3   COMMERCIAL UNITS         84548 non-null  int64 \n",
      " 4   TOTAL UNITS              84548 non-null  int64 \n",
      " 5   LAND SQUARE FEET         84548 non-null  object\n",
      " 6   YEAR BUILT               84548 non-null  int64 \n",
      " 7   SALE PRICE               84548 non-null  object\n",
      " 8   SALE DATE                84548 non-null  object\n",
      "dtypes: int64(5), object(4)\n",
      "memory usage: 5.8+ MB\n",
      "None\n",
      "            BOROUGH  RESIDENTIAL UNITS  COMMERCIAL UNITS   TOTAL UNITS  \\\n",
      "count  84548.000000       84548.000000      84548.000000  84548.000000   \n",
      "mean       2.998758           2.025264          0.193559      2.249184   \n",
      "std        1.289790          16.721037          8.713183     18.972584   \n",
      "min        1.000000           0.000000          0.000000      0.000000   \n",
      "25%        2.000000           0.000000          0.000000      1.000000   \n",
      "50%        3.000000           1.000000          0.000000      1.000000   \n",
      "75%        4.000000           2.000000          0.000000      2.000000   \n",
      "max        5.000000        1844.000000       2261.000000   2261.000000   \n",
      "\n",
      "         YEAR BUILT  \n",
      "count  84548.000000  \n",
      "mean    1789.322976  \n",
      "std      537.344993  \n",
      "min        0.000000  \n",
      "25%     1920.000000  \n",
      "50%     1940.000000  \n",
      "75%     1965.000000  \n",
      "max     2017.000000  \n"
     ]
    }
   ],
   "source": [
    "drop_kolom= ['Unnamed: 0','NEIGHBORHOOD', 'BLOCK','TAX CLASS AT PRESENT', 'TAX CLASS AT TIME OF SALE', \n",
    "             'BUILDING CLASS AT PRESENT', 'BUILDING CLASS AT TIME OF SALE', 'GROSS SQUARE FEET', 'ADDRESS',\n",
    "            'APARTMENT NUMBER', 'ZIP CODE', 'EASE-MENT', 'LOT', 'BLOCK']\n",
    "\n",
    "df.drop(columns=drop_kolom, inplace=True)\n",
    "print(df.info())\n",
    "print(df.describe())"
   ]
  },
  {
   "cell_type": "markdown",
   "id": "168def09",
   "metadata": {},
   "source": [
    "### 2. Cek Kesesuaian Value Kolom dengan Deskripsinya"
   ]
  },
  {
   "cell_type": "code",
   "execution_count": 4,
   "id": "cda5a026",
   "metadata": {},
   "outputs": [
    {
     "data": {
      "text/html": [
       "<div>\n",
       "<style scoped>\n",
       "    .dataframe tbody tr th:only-of-type {\n",
       "        vertical-align: middle;\n",
       "    }\n",
       "\n",
       "    .dataframe tbody tr th {\n",
       "        vertical-align: top;\n",
       "    }\n",
       "\n",
       "    .dataframe thead th {\n",
       "        text-align: right;\n",
       "    }\n",
       "</style>\n",
       "<table border=\"1\" class=\"dataframe\">\n",
       "  <thead>\n",
       "    <tr style=\"text-align: right;\">\n",
       "      <th></th>\n",
       "      <th>BOROUGH</th>\n",
       "      <th>RESIDENTIAL UNITS</th>\n",
       "      <th>COMMERCIAL UNITS</th>\n",
       "      <th>TOTAL UNITS</th>\n",
       "      <th>YEAR BUILT</th>\n",
       "    </tr>\n",
       "  </thead>\n",
       "  <tbody>\n",
       "    <tr>\n",
       "      <th>count</th>\n",
       "      <td>84548.000000</td>\n",
       "      <td>84548.000000</td>\n",
       "      <td>84548.000000</td>\n",
       "      <td>84548.000000</td>\n",
       "      <td>84548.000000</td>\n",
       "    </tr>\n",
       "    <tr>\n",
       "      <th>mean</th>\n",
       "      <td>2.998758</td>\n",
       "      <td>2.025264</td>\n",
       "      <td>0.193559</td>\n",
       "      <td>2.249184</td>\n",
       "      <td>1789.322976</td>\n",
       "    </tr>\n",
       "    <tr>\n",
       "      <th>std</th>\n",
       "      <td>1.289790</td>\n",
       "      <td>16.721037</td>\n",
       "      <td>8.713183</td>\n",
       "      <td>18.972584</td>\n",
       "      <td>537.344993</td>\n",
       "    </tr>\n",
       "    <tr>\n",
       "      <th>min</th>\n",
       "      <td>1.000000</td>\n",
       "      <td>0.000000</td>\n",
       "      <td>0.000000</td>\n",
       "      <td>0.000000</td>\n",
       "      <td>0.000000</td>\n",
       "    </tr>\n",
       "    <tr>\n",
       "      <th>25%</th>\n",
       "      <td>2.000000</td>\n",
       "      <td>0.000000</td>\n",
       "      <td>0.000000</td>\n",
       "      <td>1.000000</td>\n",
       "      <td>1920.000000</td>\n",
       "    </tr>\n",
       "    <tr>\n",
       "      <th>50%</th>\n",
       "      <td>3.000000</td>\n",
       "      <td>1.000000</td>\n",
       "      <td>0.000000</td>\n",
       "      <td>1.000000</td>\n",
       "      <td>1940.000000</td>\n",
       "    </tr>\n",
       "    <tr>\n",
       "      <th>75%</th>\n",
       "      <td>4.000000</td>\n",
       "      <td>2.000000</td>\n",
       "      <td>0.000000</td>\n",
       "      <td>2.000000</td>\n",
       "      <td>1965.000000</td>\n",
       "    </tr>\n",
       "    <tr>\n",
       "      <th>max</th>\n",
       "      <td>5.000000</td>\n",
       "      <td>1844.000000</td>\n",
       "      <td>2261.000000</td>\n",
       "      <td>2261.000000</td>\n",
       "      <td>2017.000000</td>\n",
       "    </tr>\n",
       "  </tbody>\n",
       "</table>\n",
       "</div>"
      ],
      "text/plain": [
       "            BOROUGH  RESIDENTIAL UNITS  COMMERCIAL UNITS   TOTAL UNITS  \\\n",
       "count  84548.000000       84548.000000      84548.000000  84548.000000   \n",
       "mean       2.998758           2.025264          0.193559      2.249184   \n",
       "std        1.289790          16.721037          8.713183     18.972584   \n",
       "min        1.000000           0.000000          0.000000      0.000000   \n",
       "25%        2.000000           0.000000          0.000000      1.000000   \n",
       "50%        3.000000           1.000000          0.000000      1.000000   \n",
       "75%        4.000000           2.000000          0.000000      2.000000   \n",
       "max        5.000000        1844.000000       2261.000000   2261.000000   \n",
       "\n",
       "         YEAR BUILT  \n",
       "count  84548.000000  \n",
       "mean    1789.322976  \n",
       "std      537.344993  \n",
       "min        0.000000  \n",
       "25%     1920.000000  \n",
       "50%     1940.000000  \n",
       "75%     1965.000000  \n",
       "max     2017.000000  "
      ]
     },
     "execution_count": 4,
     "metadata": {},
     "output_type": "execute_result"
    }
   ],
   "source": [
    "df.describe()"
   ]
  },
  {
   "cell_type": "markdown",
   "id": "2322ee29",
   "metadata": {},
   "source": [
    "Pada kolom **'YEAR BUILT'** terdapat yang **bernilai nol**. Makan **perlu diperbaiki**. Selain itu hanya gunakan **data dari tahun 1900-2017**."
   ]
  },
  {
   "cell_type": "code",
   "execution_count": 5,
   "id": "90830f70",
   "metadata": {},
   "outputs": [
    {
     "data": {
      "text/html": [
       "<div>\n",
       "<style scoped>\n",
       "    .dataframe tbody tr th:only-of-type {\n",
       "        vertical-align: middle;\n",
       "    }\n",
       "\n",
       "    .dataframe tbody tr th {\n",
       "        vertical-align: top;\n",
       "    }\n",
       "\n",
       "    .dataframe thead th {\n",
       "        text-align: right;\n",
       "    }\n",
       "</style>\n",
       "<table border=\"1\" class=\"dataframe\">\n",
       "  <thead>\n",
       "    <tr style=\"text-align: right;\">\n",
       "      <th></th>\n",
       "      <th>BOROUGH</th>\n",
       "      <th>BUILDING CLASS CATEGORY</th>\n",
       "      <th>RESIDENTIAL UNITS</th>\n",
       "      <th>COMMERCIAL UNITS</th>\n",
       "      <th>TOTAL UNITS</th>\n",
       "      <th>LAND SQUARE FEET</th>\n",
       "      <th>YEAR BUILT</th>\n",
       "      <th>SALE PRICE</th>\n",
       "      <th>SALE DATE</th>\n",
       "    </tr>\n",
       "  </thead>\n",
       "  <tbody>\n",
       "    <tr>\n",
       "      <th>74</th>\n",
       "      <td>1</td>\n",
       "      <td>11A CONDO-RENTALS</td>\n",
       "      <td>0</td>\n",
       "      <td>0</td>\n",
       "      <td>0</td>\n",
       "      <td>-</td>\n",
       "      <td>0</td>\n",
       "      <td>8058923</td>\n",
       "      <td>2017-08-09 00:00:00</td>\n",
       "    </tr>\n",
       "    <tr>\n",
       "      <th>76</th>\n",
       "      <td>1</td>\n",
       "      <td>12 CONDOS - WALKUP APARTMENTS</td>\n",
       "      <td>1</td>\n",
       "      <td>0</td>\n",
       "      <td>1</td>\n",
       "      <td>-</td>\n",
       "      <td>0</td>\n",
       "      <td>620000</td>\n",
       "      <td>2016-12-30 00:00:00</td>\n",
       "    </tr>\n",
       "    <tr>\n",
       "      <th>77</th>\n",
       "      <td>1</td>\n",
       "      <td>12 CONDOS - WALKUP APARTMENTS</td>\n",
       "      <td>1</td>\n",
       "      <td>0</td>\n",
       "      <td>1</td>\n",
       "      <td>-</td>\n",
       "      <td>0</td>\n",
       "      <td>-</td>\n",
       "      <td>2017-02-24 00:00:00</td>\n",
       "    </tr>\n",
       "    <tr>\n",
       "      <th>78</th>\n",
       "      <td>1</td>\n",
       "      <td>12 CONDOS - WALKUP APARTMENTS</td>\n",
       "      <td>1</td>\n",
       "      <td>0</td>\n",
       "      <td>1</td>\n",
       "      <td>-</td>\n",
       "      <td>0</td>\n",
       "      <td>-</td>\n",
       "      <td>2017-07-20 00:00:00</td>\n",
       "    </tr>\n",
       "    <tr>\n",
       "      <th>87</th>\n",
       "      <td>1</td>\n",
       "      <td>13 CONDOS - ELEVATOR APARTMENTS</td>\n",
       "      <td>1</td>\n",
       "      <td>0</td>\n",
       "      <td>1</td>\n",
       "      <td>-</td>\n",
       "      <td>0</td>\n",
       "      <td>875000</td>\n",
       "      <td>2017-03-31 00:00:00</td>\n",
       "    </tr>\n",
       "  </tbody>\n",
       "</table>\n",
       "</div>"
      ],
      "text/plain": [
       "    BOROUGH                       BUILDING CLASS CATEGORY  RESIDENTIAL UNITS  \\\n",
       "74        1  11A CONDO-RENTALS                                             0   \n",
       "76        1   12 CONDOS - WALKUP APARTMENTS                                1   \n",
       "77        1   12 CONDOS - WALKUP APARTMENTS                                1   \n",
       "78        1   12 CONDOS - WALKUP APARTMENTS                                1   \n",
       "87        1   13 CONDOS - ELEVATOR APARTMENTS                              1   \n",
       "\n",
       "    COMMERCIAL UNITS  TOTAL UNITS LAND SQUARE FEET  YEAR BUILT SALE PRICE  \\\n",
       "74                 0            0              -             0    8058923   \n",
       "76                 0            1              -             0     620000   \n",
       "77                 0            1              -             0        -     \n",
       "78                 0            1              -             0        -     \n",
       "87                 0            1              -             0     875000   \n",
       "\n",
       "              SALE DATE  \n",
       "74  2017-08-09 00:00:00  \n",
       "76  2016-12-30 00:00:00  \n",
       "77  2017-02-24 00:00:00  \n",
       "78  2017-07-20 00:00:00  \n",
       "87  2017-03-31 00:00:00  "
      ]
     },
     "execution_count": 5,
     "metadata": {},
     "output_type": "execute_result"
    }
   ],
   "source": [
    "nol= df[df['YEAR BUILT']== 0]\n",
    "nol.head()"
   ]
  },
  {
   "cell_type": "code",
   "execution_count": 6,
   "id": "a43fbe4e",
   "metadata": {},
   "outputs": [
    {
     "data": {
      "text/html": [
       "<div>\n",
       "<style scoped>\n",
       "    .dataframe tbody tr th:only-of-type {\n",
       "        vertical-align: middle;\n",
       "    }\n",
       "\n",
       "    .dataframe tbody tr th {\n",
       "        vertical-align: top;\n",
       "    }\n",
       "\n",
       "    .dataframe thead th {\n",
       "        text-align: right;\n",
       "    }\n",
       "</style>\n",
       "<table border=\"1\" class=\"dataframe\">\n",
       "  <thead>\n",
       "    <tr style=\"text-align: right;\">\n",
       "      <th></th>\n",
       "      <th>BOROUGH</th>\n",
       "      <th>RESIDENTIAL UNITS</th>\n",
       "      <th>COMMERCIAL UNITS</th>\n",
       "      <th>TOTAL UNITS</th>\n",
       "      <th>YEAR BUILT</th>\n",
       "    </tr>\n",
       "  </thead>\n",
       "  <tbody>\n",
       "    <tr>\n",
       "      <th>count</th>\n",
       "      <td>75518.000000</td>\n",
       "      <td>75518.000000</td>\n",
       "      <td>75518.000000</td>\n",
       "      <td>75518.000000</td>\n",
       "      <td>75518.000000</td>\n",
       "    </tr>\n",
       "    <tr>\n",
       "      <th>mean</th>\n",
       "      <td>3.043566</td>\n",
       "      <td>2.155115</td>\n",
       "      <td>0.214783</td>\n",
       "      <td>2.396051</td>\n",
       "      <td>1951.594017</td>\n",
       "    </tr>\n",
       "    <tr>\n",
       "      <th>std</th>\n",
       "      <td>1.290558</td>\n",
       "      <td>17.626874</td>\n",
       "      <td>9.218747</td>\n",
       "      <td>20.015367</td>\n",
       "      <td>33.315796</td>\n",
       "    </tr>\n",
       "    <tr>\n",
       "      <th>min</th>\n",
       "      <td>1.000000</td>\n",
       "      <td>0.000000</td>\n",
       "      <td>0.000000</td>\n",
       "      <td>0.000000</td>\n",
       "      <td>1900.000000</td>\n",
       "    </tr>\n",
       "    <tr>\n",
       "      <th>25%</th>\n",
       "      <td>2.000000</td>\n",
       "      <td>0.000000</td>\n",
       "      <td>0.000000</td>\n",
       "      <td>1.000000</td>\n",
       "      <td>1925.000000</td>\n",
       "    </tr>\n",
       "    <tr>\n",
       "      <th>50%</th>\n",
       "      <td>3.000000</td>\n",
       "      <td>1.000000</td>\n",
       "      <td>0.000000</td>\n",
       "      <td>1.000000</td>\n",
       "      <td>1949.000000</td>\n",
       "    </tr>\n",
       "    <tr>\n",
       "      <th>75%</th>\n",
       "      <td>4.000000</td>\n",
       "      <td>2.000000</td>\n",
       "      <td>0.000000</td>\n",
       "      <td>2.000000</td>\n",
       "      <td>1972.000000</td>\n",
       "    </tr>\n",
       "    <tr>\n",
       "      <th>max</th>\n",
       "      <td>5.000000</td>\n",
       "      <td>1844.000000</td>\n",
       "      <td>2261.000000</td>\n",
       "      <td>2261.000000</td>\n",
       "      <td>2017.000000</td>\n",
       "    </tr>\n",
       "  </tbody>\n",
       "</table>\n",
       "</div>"
      ],
      "text/plain": [
       "            BOROUGH  RESIDENTIAL UNITS  COMMERCIAL UNITS   TOTAL UNITS  \\\n",
       "count  75518.000000       75518.000000      75518.000000  75518.000000   \n",
       "mean       3.043566           2.155115          0.214783      2.396051   \n",
       "std        1.290558          17.626874          9.218747     20.015367   \n",
       "min        1.000000           0.000000          0.000000      0.000000   \n",
       "25%        2.000000           0.000000          0.000000      1.000000   \n",
       "50%        3.000000           1.000000          0.000000      1.000000   \n",
       "75%        4.000000           2.000000          0.000000      2.000000   \n",
       "max        5.000000        1844.000000       2261.000000   2261.000000   \n",
       "\n",
       "         YEAR BUILT  \n",
       "count  75518.000000  \n",
       "mean    1951.594017  \n",
       "std       33.315796  \n",
       "min     1900.000000  \n",
       "25%     1925.000000  \n",
       "50%     1949.000000  \n",
       "75%     1972.000000  \n",
       "max     2017.000000  "
      ]
     },
     "execution_count": 6,
     "metadata": {},
     "output_type": "execute_result"
    }
   ],
   "source": [
    "df = df.drop(df[df['YEAR BUILT'] <1900].index)\n",
    "df.describe()"
   ]
  },
  {
   "cell_type": "markdown",
   "id": "bafe5e18",
   "metadata": {},
   "source": [
    "### 3. Buat Kolom Baru dengan Nama 'Year' dan 'Month'"
   ]
  },
  {
   "cell_type": "code",
   "execution_count": 7,
   "id": "20860604",
   "metadata": {},
   "outputs": [
    {
     "data": {
      "text/html": [
       "<div>\n",
       "<style scoped>\n",
       "    .dataframe tbody tr th:only-of-type {\n",
       "        vertical-align: middle;\n",
       "    }\n",
       "\n",
       "    .dataframe tbody tr th {\n",
       "        vertical-align: top;\n",
       "    }\n",
       "\n",
       "    .dataframe thead th {\n",
       "        text-align: right;\n",
       "    }\n",
       "</style>\n",
       "<table border=\"1\" class=\"dataframe\">\n",
       "  <thead>\n",
       "    <tr style=\"text-align: right;\">\n",
       "      <th></th>\n",
       "      <th>BOROUGH</th>\n",
       "      <th>BUILDING CLASS CATEGORY</th>\n",
       "      <th>RESIDENTIAL UNITS</th>\n",
       "      <th>COMMERCIAL UNITS</th>\n",
       "      <th>TOTAL UNITS</th>\n",
       "      <th>LAND SQUARE FEET</th>\n",
       "      <th>YEAR BUILT</th>\n",
       "      <th>SALE PRICE</th>\n",
       "      <th>SALE DATE</th>\n",
       "      <th>Year</th>\n",
       "      <th>Month</th>\n",
       "    </tr>\n",
       "  </thead>\n",
       "  <tbody>\n",
       "    <tr>\n",
       "      <th>0</th>\n",
       "      <td>1</td>\n",
       "      <td>07 RENTALS - WALKUP APARTMENTS</td>\n",
       "      <td>5</td>\n",
       "      <td>0</td>\n",
       "      <td>5</td>\n",
       "      <td>1633</td>\n",
       "      <td>1900</td>\n",
       "      <td>6625000</td>\n",
       "      <td>2017-07-19</td>\n",
       "      <td>2017</td>\n",
       "      <td>7</td>\n",
       "    </tr>\n",
       "    <tr>\n",
       "      <th>1</th>\n",
       "      <td>1</td>\n",
       "      <td>07 RENTALS - WALKUP APARTMENTS</td>\n",
       "      <td>28</td>\n",
       "      <td>3</td>\n",
       "      <td>31</td>\n",
       "      <td>4616</td>\n",
       "      <td>1900</td>\n",
       "      <td>-</td>\n",
       "      <td>2016-12-14</td>\n",
       "      <td>2016</td>\n",
       "      <td>12</td>\n",
       "    </tr>\n",
       "    <tr>\n",
       "      <th>2</th>\n",
       "      <td>1</td>\n",
       "      <td>07 RENTALS - WALKUP APARTMENTS</td>\n",
       "      <td>16</td>\n",
       "      <td>1</td>\n",
       "      <td>17</td>\n",
       "      <td>2212</td>\n",
       "      <td>1900</td>\n",
       "      <td>-</td>\n",
       "      <td>2016-12-09</td>\n",
       "      <td>2016</td>\n",
       "      <td>12</td>\n",
       "    </tr>\n",
       "    <tr>\n",
       "      <th>3</th>\n",
       "      <td>1</td>\n",
       "      <td>07 RENTALS - WALKUP APARTMENTS</td>\n",
       "      <td>10</td>\n",
       "      <td>0</td>\n",
       "      <td>10</td>\n",
       "      <td>2272</td>\n",
       "      <td>1913</td>\n",
       "      <td>3936272</td>\n",
       "      <td>2016-09-23</td>\n",
       "      <td>2016</td>\n",
       "      <td>9</td>\n",
       "    </tr>\n",
       "    <tr>\n",
       "      <th>4</th>\n",
       "      <td>1</td>\n",
       "      <td>07 RENTALS - WALKUP APARTMENTS</td>\n",
       "      <td>6</td>\n",
       "      <td>0</td>\n",
       "      <td>6</td>\n",
       "      <td>2369</td>\n",
       "      <td>1900</td>\n",
       "      <td>8000000</td>\n",
       "      <td>2016-11-17</td>\n",
       "      <td>2016</td>\n",
       "      <td>11</td>\n",
       "    </tr>\n",
       "  </tbody>\n",
       "</table>\n",
       "</div>"
      ],
      "text/plain": [
       "   BOROUGH                      BUILDING CLASS CATEGORY  RESIDENTIAL UNITS  \\\n",
       "0        1  07 RENTALS - WALKUP APARTMENTS                               5   \n",
       "1        1  07 RENTALS - WALKUP APARTMENTS                              28   \n",
       "2        1  07 RENTALS - WALKUP APARTMENTS                              16   \n",
       "3        1  07 RENTALS - WALKUP APARTMENTS                              10   \n",
       "4        1  07 RENTALS - WALKUP APARTMENTS                               6   \n",
       "\n",
       "   COMMERCIAL UNITS  TOTAL UNITS LAND SQUARE FEET YEAR BUILT SALE PRICE  \\\n",
       "0                 0            5             1633       1900    6625000   \n",
       "1                 3           31             4616       1900        -     \n",
       "2                 1           17             2212       1900        -     \n",
       "3                 0           10             2272       1913    3936272   \n",
       "4                 0            6             2369       1900    8000000   \n",
       "\n",
       "   SALE DATE  Year Month  \n",
       "0 2017-07-19  2017     7  \n",
       "1 2016-12-14  2016    12  \n",
       "2 2016-12-09  2016    12  \n",
       "3 2016-09-23  2016     9  \n",
       "4 2016-11-17  2016    11  "
      ]
     },
     "execution_count": 7,
     "metadata": {},
     "output_type": "execute_result"
    }
   ],
   "source": [
    "# Mengonversi kolom 'tanggal' ke tipe data datetime\n",
    "df['SALE DATE'] = pd.to_datetime(df['SALE DATE'])\n",
    "\n",
    "# Mengambil hanya tahun dan hanya bulan dari kolom datetime\n",
    "df['Year'] = df['SALE DATE'].dt.year\n",
    "df['Month'] = df['SALE DATE'].dt.month\n",
    "\n",
    "\n",
    "# Merubah tipe data 'Year','Month' dan 'YEAR BUILT' menjadi string\n",
    "df['Year'] = df['Year'].astype('str')\n",
    "df['Month'] = df['Month'].astype('str')\n",
    "df['YEAR BUILT'] = df['YEAR BUILT'].astype('str')\n",
    "\n",
    "# Hapus kolom SALE DATE\n",
    "#df.drop(columns='SALE DATE', inplace=True)\n",
    "\n",
    "\n",
    "df.head()"
   ]
  },
  {
   "cell_type": "markdown",
   "id": "c9950e54",
   "metadata": {},
   "source": [
    "# Step 2: Cek Value"
   ]
  },
  {
   "cell_type": "markdown",
   "id": "99eed007",
   "metadata": {},
   "source": [
    "### Cek Missing Value"
   ]
  },
  {
   "cell_type": "code",
   "execution_count": 8,
   "id": "86c546be",
   "metadata": {},
   "outputs": [
    {
     "data": {
      "text/plain": [
       "BOROUGH                    0\n",
       "BUILDING CLASS CATEGORY    0\n",
       "RESIDENTIAL UNITS          0\n",
       "COMMERCIAL UNITS           0\n",
       "TOTAL UNITS                0\n",
       "LAND SQUARE FEET           0\n",
       "YEAR BUILT                 0\n",
       "SALE PRICE                 0\n",
       "SALE DATE                  0\n",
       "Year                       0\n",
       "Month                      0\n",
       "dtype: int64"
      ]
     },
     "execution_count": 8,
     "metadata": {},
     "output_type": "execute_result"
    }
   ],
   "source": [
    "df.isnull().sum()"
   ]
  },
  {
   "cell_type": "code",
   "execution_count": 9,
   "id": "f43a450e",
   "metadata": {},
   "outputs": [
    {
     "name": "stdout",
     "output_type": "stream",
     "text": [
      "<class 'pandas.core.frame.DataFrame'>\n",
      "Int64Index: 75518 entries, 0 to 84547\n",
      "Data columns (total 11 columns):\n",
      " #   Column                   Non-Null Count  Dtype         \n",
      "---  ------                   --------------  -----         \n",
      " 0   BOROUGH                  75518 non-null  int64         \n",
      " 1   BUILDING CLASS CATEGORY  75518 non-null  object        \n",
      " 2   RESIDENTIAL UNITS        75518 non-null  int64         \n",
      " 3   COMMERCIAL UNITS         75518 non-null  int64         \n",
      " 4   TOTAL UNITS              75518 non-null  int64         \n",
      " 5   LAND SQUARE FEET         75518 non-null  object        \n",
      " 6   YEAR BUILT               75518 non-null  object        \n",
      " 7   SALE PRICE               75518 non-null  object        \n",
      " 8   SALE DATE                75518 non-null  datetime64[ns]\n",
      " 9   Year                     75518 non-null  object        \n",
      " 10  Month                    75518 non-null  object        \n",
      "dtypes: datetime64[ns](1), int64(4), object(6)\n",
      "memory usage: 6.9+ MB\n"
     ]
    }
   ],
   "source": [
    "df.info()"
   ]
  },
  {
   "cell_type": "markdown",
   "id": "d64dec3f",
   "metadata": {},
   "source": [
    "Berdasarkan hasil dari **df.isnull().sum()** menunjukkan bahwa tidak ada missing value. Selain itu, hasil dari **df.info() masih** menunjukkan bahwa data tidak ada missing values. "
   ]
  },
  {
   "cell_type": "markdown",
   "id": "839905d2",
   "metadata": {},
   "source": [
    "Ada beberapa data dengan **tipe data yang kurang sesuai** seperti **SALE PRICE** dan **LAND SQUARE FEET**.\n",
    "\n",
    "Pada 2 kolom tersebut **terdapat missing value yang tidak terdeteksi** sehingga tipe data masih belum bisa diubah. Sehingga, perlu untuk menatasi missing value tersebut."
   ]
  },
  {
   "cell_type": "markdown",
   "id": "5de1aa3e",
   "metadata": {},
   "source": [
    "# Step 3: Cek Tipe Data"
   ]
  },
  {
   "cell_type": "code",
   "execution_count": 10,
   "id": "6b4eb80d",
   "metadata": {
    "scrolled": true
   },
   "outputs": [
    {
     "name": "stdout",
     "output_type": "stream",
     "text": [
      "<class 'pandas.core.frame.DataFrame'>\n",
      "Int64Index: 75518 entries, 0 to 84547\n",
      "Data columns (total 11 columns):\n",
      " #   Column                   Non-Null Count  Dtype         \n",
      "---  ------                   --------------  -----         \n",
      " 0   BOROUGH                  75518 non-null  int64         \n",
      " 1   BUILDING CLASS CATEGORY  75518 non-null  object        \n",
      " 2   RESIDENTIAL UNITS        75518 non-null  int64         \n",
      " 3   COMMERCIAL UNITS         75518 non-null  int64         \n",
      " 4   TOTAL UNITS              75518 non-null  int64         \n",
      " 5   LAND SQUARE FEET         75518 non-null  object        \n",
      " 6   YEAR BUILT               75518 non-null  object        \n",
      " 7   SALE PRICE               75518 non-null  object        \n",
      " 8   SALE DATE                75518 non-null  datetime64[ns]\n",
      " 9   Year                     75518 non-null  object        \n",
      " 10  Month                    75518 non-null  object        \n",
      "dtypes: datetime64[ns](1), int64(4), object(6)\n",
      "memory usage: 6.9+ MB\n"
     ]
    }
   ],
   "source": [
    "df.info()"
   ]
  },
  {
   "cell_type": "markdown",
   "id": "68cb94f9",
   "metadata": {},
   "source": [
    "### Missing Value yang tidak terdeteksi"
   ]
  },
  {
   "cell_type": "code",
   "execution_count": 11,
   "id": "e9c1d428",
   "metadata": {},
   "outputs": [
    {
     "name": "stdout",
     "output_type": "stream",
     "text": [
      "12861\n",
      "23121\n"
     ]
    }
   ],
   "source": [
    "mis_val= [' -  ']\n",
    "print(df['SALE PRICE'].value_counts()[' -  '])\n",
    "print(df['LAND SQUARE FEET'].value_counts()[' -  '])"
   ]
  },
  {
   "cell_type": "markdown",
   "id": "e9526e22",
   "metadata": {},
   "source": [
    "Terdapat **14561** dan **26252** missing value pada kolom **SALE PRICE** dan **LAND SQUARE FEET**.."
   ]
  },
  {
   "cell_type": "markdown",
   "id": "c42a6784",
   "metadata": {},
   "source": [
    "### Hapus Baris dengan Missing Value"
   ]
  },
  {
   "cell_type": "code",
   "execution_count": 12,
   "id": "212f753b",
   "metadata": {},
   "outputs": [
    {
     "data": {
      "text/plain": [
       "BOROUGH                        0\n",
       "BUILDING CLASS CATEGORY        0\n",
       "RESIDENTIAL UNITS              0\n",
       "COMMERCIAL UNITS               0\n",
       "TOTAL UNITS                    0\n",
       "LAND SQUARE FEET           23121\n",
       "YEAR BUILT                     0\n",
       "SALE PRICE                 12861\n",
       "SALE DATE                      0\n",
       "Year                           0\n",
       "Month                          0\n",
       "dtype: int64"
      ]
     },
     "execution_count": 12,
     "metadata": {},
     "output_type": "execute_result"
    }
   ],
   "source": [
    "# Mengganti nilai '-' dengan NaN\n",
    "df['SALE PRICE'] = df['SALE PRICE'].replace(' -  ', np.nan)\n",
    "df['LAND SQUARE FEET'] = df['LAND SQUARE FEET'].replace(' -  ', np.nan)\n",
    "\n",
    "\n",
    "# Cek kembali missing value\n",
    "df.isnull().sum()"
   ]
  },
  {
   "cell_type": "code",
   "execution_count": 13,
   "id": "02551c1a",
   "metadata": {},
   "outputs": [
    {
     "data": {
      "text/plain": [
       "BOROUGH                    0\n",
       "BUILDING CLASS CATEGORY    0\n",
       "RESIDENTIAL UNITS          0\n",
       "COMMERCIAL UNITS           0\n",
       "TOTAL UNITS                0\n",
       "LAND SQUARE FEET           0\n",
       "YEAR BUILT                 0\n",
       "SALE PRICE                 0\n",
       "SALE DATE                  0\n",
       "Year                       0\n",
       "Month                      0\n",
       "dtype: int64"
      ]
     },
     "execution_count": 13,
     "metadata": {},
     "output_type": "execute_result"
    }
   ],
   "source": [
    "# Hapus semua missing value\n",
    "df=df.dropna(subset=['LAND SQUARE FEET'])\n",
    "df=df.dropna(subset=['SALE PRICE'])\n",
    "\n",
    "# Cek kembali missing value\n",
    "df.isnull().sum()"
   ]
  },
  {
   "cell_type": "markdown",
   "id": "242789fc",
   "metadata": {},
   "source": [
    "Dataframe sudah **cleared dari missing value**."
   ]
  },
  {
   "cell_type": "markdown",
   "id": "265bfdb9",
   "metadata": {},
   "source": [
    "### Ubah Tipe Data"
   ]
  },
  {
   "cell_type": "code",
   "execution_count": 14,
   "id": "b1ead1cd",
   "metadata": {},
   "outputs": [
    {
     "name": "stdout",
     "output_type": "stream",
     "text": [
      "<class 'pandas.core.frame.DataFrame'>\n",
      "Int64Index: 43654 entries, 0 to 84547\n",
      "Data columns (total 11 columns):\n",
      " #   Column                   Non-Null Count  Dtype         \n",
      "---  ------                   --------------  -----         \n",
      " 0   BOROUGH                  43654 non-null  int64         \n",
      " 1   BUILDING CLASS CATEGORY  43654 non-null  object        \n",
      " 2   RESIDENTIAL UNITS        43654 non-null  int64         \n",
      " 3   COMMERCIAL UNITS         43654 non-null  int64         \n",
      " 4   TOTAL UNITS              43654 non-null  int64         \n",
      " 5   LAND SQUARE FEET         43654 non-null  float64       \n",
      " 6   YEAR BUILT               43654 non-null  object        \n",
      " 7   SALE PRICE               43654 non-null  float64       \n",
      " 8   SALE DATE                43654 non-null  datetime64[ns]\n",
      " 9   Year                     43654 non-null  object        \n",
      " 10  Month                    43654 non-null  object        \n",
      "dtypes: datetime64[ns](1), float64(2), int64(4), object(4)\n",
      "memory usage: 4.0+ MB\n"
     ]
    }
   ],
   "source": [
    "df['SALE PRICE']= df['SALE PRICE'].astype(float)\n",
    "df['LAND SQUARE FEET']= df['LAND SQUARE FEET'].astype(float)\n",
    "\n",
    "df.info()"
   ]
  },
  {
   "cell_type": "markdown",
   "id": "88e2b449",
   "metadata": {},
   "source": [
    "### Cek kembali kesesuaian nilai dengan kolom"
   ]
  },
  {
   "cell_type": "code",
   "execution_count": 15,
   "id": "0d35adb8",
   "metadata": {
    "scrolled": true
   },
   "outputs": [
    {
     "data": {
      "text/html": [
       "<div>\n",
       "<style scoped>\n",
       "    .dataframe tbody tr th:only-of-type {\n",
       "        vertical-align: middle;\n",
       "    }\n",
       "\n",
       "    .dataframe tbody tr th {\n",
       "        vertical-align: top;\n",
       "    }\n",
       "\n",
       "    .dataframe thead th {\n",
       "        text-align: right;\n",
       "    }\n",
       "</style>\n",
       "<table border=\"1\" class=\"dataframe\">\n",
       "  <thead>\n",
       "    <tr style=\"text-align: right;\">\n",
       "      <th></th>\n",
       "      <th>BOROUGH</th>\n",
       "      <th>RESIDENTIAL UNITS</th>\n",
       "      <th>COMMERCIAL UNITS</th>\n",
       "      <th>TOTAL UNITS</th>\n",
       "      <th>LAND SQUARE FEET</th>\n",
       "      <th>SALE PRICE</th>\n",
       "    </tr>\n",
       "  </thead>\n",
       "  <tbody>\n",
       "    <tr>\n",
       "      <th>count</th>\n",
       "      <td>43654.000000</td>\n",
       "      <td>43654.000000</td>\n",
       "      <td>43654.000000</td>\n",
       "      <td>43654.000000</td>\n",
       "      <td>4.365400e+04</td>\n",
       "      <td>4.365400e+04</td>\n",
       "    </tr>\n",
       "    <tr>\n",
       "      <th>mean</th>\n",
       "      <td>3.301484</td>\n",
       "      <td>2.706464</td>\n",
       "      <td>0.273698</td>\n",
       "      <td>2.996037</td>\n",
       "      <td>3.485986e+03</td>\n",
       "      <td>1.189785e+06</td>\n",
       "    </tr>\n",
       "    <tr>\n",
       "      <th>std</th>\n",
       "      <td>0.923594</td>\n",
       "      <td>18.272536</td>\n",
       "      <td>11.550931</td>\n",
       "      <td>21.738097</td>\n",
       "      <td>3.290177e+04</td>\n",
       "      <td>1.396728e+07</td>\n",
       "    </tr>\n",
       "    <tr>\n",
       "      <th>min</th>\n",
       "      <td>1.000000</td>\n",
       "      <td>0.000000</td>\n",
       "      <td>0.000000</td>\n",
       "      <td>0.000000</td>\n",
       "      <td>0.000000e+00</td>\n",
       "      <td>0.000000e+00</td>\n",
       "    </tr>\n",
       "    <tr>\n",
       "      <th>25%</th>\n",
       "      <td>3.000000</td>\n",
       "      <td>1.000000</td>\n",
       "      <td>0.000000</td>\n",
       "      <td>1.000000</td>\n",
       "      <td>1.600000e+03</td>\n",
       "      <td>1.483725e+05</td>\n",
       "    </tr>\n",
       "    <tr>\n",
       "      <th>50%</th>\n",
       "      <td>3.000000</td>\n",
       "      <td>1.000000</td>\n",
       "      <td>0.000000</td>\n",
       "      <td>1.000000</td>\n",
       "      <td>2.258500e+03</td>\n",
       "      <td>4.900000e+05</td>\n",
       "    </tr>\n",
       "    <tr>\n",
       "      <th>75%</th>\n",
       "      <td>4.000000</td>\n",
       "      <td>2.000000</td>\n",
       "      <td>0.000000</td>\n",
       "      <td>2.000000</td>\n",
       "      <td>3.220000e+03</td>\n",
       "      <td>8.200000e+05</td>\n",
       "    </tr>\n",
       "    <tr>\n",
       "      <th>max</th>\n",
       "      <td>5.000000</td>\n",
       "      <td>1844.000000</td>\n",
       "      <td>2261.000000</td>\n",
       "      <td>2261.000000</td>\n",
       "      <td>4.228300e+06</td>\n",
       "      <td>2.210000e+09</td>\n",
       "    </tr>\n",
       "  </tbody>\n",
       "</table>\n",
       "</div>"
      ],
      "text/plain": [
       "            BOROUGH  RESIDENTIAL UNITS  COMMERCIAL UNITS   TOTAL UNITS  \\\n",
       "count  43654.000000       43654.000000      43654.000000  43654.000000   \n",
       "mean       3.301484           2.706464          0.273698      2.996037   \n",
       "std        0.923594          18.272536         11.550931     21.738097   \n",
       "min        1.000000           0.000000          0.000000      0.000000   \n",
       "25%        3.000000           1.000000          0.000000      1.000000   \n",
       "50%        3.000000           1.000000          0.000000      1.000000   \n",
       "75%        4.000000           2.000000          0.000000      2.000000   \n",
       "max        5.000000        1844.000000       2261.000000   2261.000000   \n",
       "\n",
       "       LAND SQUARE FEET    SALE PRICE  \n",
       "count      4.365400e+04  4.365400e+04  \n",
       "mean       3.485986e+03  1.189785e+06  \n",
       "std        3.290177e+04  1.396728e+07  \n",
       "min        0.000000e+00  0.000000e+00  \n",
       "25%        1.600000e+03  1.483725e+05  \n",
       "50%        2.258500e+03  4.900000e+05  \n",
       "75%        3.220000e+03  8.200000e+05  \n",
       "max        4.228300e+06  2.210000e+09  "
      ]
     },
     "execution_count": 15,
     "metadata": {},
     "output_type": "execute_result"
    }
   ],
   "source": [
    "df.describe()"
   ]
  },
  {
   "cell_type": "markdown",
   "id": "22f8a17f",
   "metadata": {},
   "source": [
    "Pada kolom Land Square Feet, Total Units, dan Sale Price memiliki nilai **minimal adalah nol**. Maka baris tersebut bisa **dihapus** dengan anggapan bahwa transaksi properti tersebut bukan merupakan transaksi jual-beli tetapi kegiatan lainnya seperti pemindahan kepemilikan properti karena warisan, dll."
   ]
  },
  {
   "cell_type": "code",
   "execution_count": 16,
   "id": "0af90911",
   "metadata": {},
   "outputs": [
    {
     "data": {
      "text/html": [
       "<div>\n",
       "<style scoped>\n",
       "    .dataframe tbody tr th:only-of-type {\n",
       "        vertical-align: middle;\n",
       "    }\n",
       "\n",
       "    .dataframe tbody tr th {\n",
       "        vertical-align: top;\n",
       "    }\n",
       "\n",
       "    .dataframe thead th {\n",
       "        text-align: right;\n",
       "    }\n",
       "</style>\n",
       "<table border=\"1\" class=\"dataframe\">\n",
       "  <thead>\n",
       "    <tr style=\"text-align: right;\">\n",
       "      <th></th>\n",
       "      <th>BOROUGH</th>\n",
       "      <th>RESIDENTIAL UNITS</th>\n",
       "      <th>COMMERCIAL UNITS</th>\n",
       "      <th>TOTAL UNITS</th>\n",
       "      <th>LAND SQUARE FEET</th>\n",
       "      <th>SALE PRICE</th>\n",
       "    </tr>\n",
       "  </thead>\n",
       "  <tbody>\n",
       "    <tr>\n",
       "      <th>count</th>\n",
       "      <td>28297.000000</td>\n",
       "      <td>28297.000000</td>\n",
       "      <td>28297.000000</td>\n",
       "      <td>28297.000000</td>\n",
       "      <td>2.829700e+04</td>\n",
       "      <td>2.829700e+04</td>\n",
       "    </tr>\n",
       "    <tr>\n",
       "      <th>mean</th>\n",
       "      <td>3.562038</td>\n",
       "      <td>3.072446</td>\n",
       "      <td>0.340743</td>\n",
       "      <td>3.411740</td>\n",
       "      <td>4.298784e+03</td>\n",
       "      <td>1.645994e+06</td>\n",
       "    </tr>\n",
       "    <tr>\n",
       "      <th>std</th>\n",
       "      <td>1.019830</td>\n",
       "      <td>20.339813</td>\n",
       "      <td>14.270426</td>\n",
       "      <td>24.984274</td>\n",
       "      <td>3.615332e+04</td>\n",
       "      <td>1.730766e+07</td>\n",
       "    </tr>\n",
       "    <tr>\n",
       "      <th>min</th>\n",
       "      <td>1.000000</td>\n",
       "      <td>0.000000</td>\n",
       "      <td>0.000000</td>\n",
       "      <td>1.000000</td>\n",
       "      <td>2.000000e+02</td>\n",
       "      <td>1.000000e+00</td>\n",
       "    </tr>\n",
       "    <tr>\n",
       "      <th>25%</th>\n",
       "      <td>3.000000</td>\n",
       "      <td>1.000000</td>\n",
       "      <td>0.000000</td>\n",
       "      <td>1.000000</td>\n",
       "      <td>2.000000e+03</td>\n",
       "      <td>4.200000e+05</td>\n",
       "    </tr>\n",
       "    <tr>\n",
       "      <th>50%</th>\n",
       "      <td>4.000000</td>\n",
       "      <td>2.000000</td>\n",
       "      <td>0.000000</td>\n",
       "      <td>2.000000</td>\n",
       "      <td>2.500000e+03</td>\n",
       "      <td>6.100000e+05</td>\n",
       "    </tr>\n",
       "    <tr>\n",
       "      <th>75%</th>\n",
       "      <td>4.000000</td>\n",
       "      <td>2.000000</td>\n",
       "      <td>0.000000</td>\n",
       "      <td>2.000000</td>\n",
       "      <td>4.000000e+03</td>\n",
       "      <td>9.310000e+05</td>\n",
       "    </tr>\n",
       "    <tr>\n",
       "      <th>max</th>\n",
       "      <td>5.000000</td>\n",
       "      <td>1844.000000</td>\n",
       "      <td>2261.000000</td>\n",
       "      <td>2261.000000</td>\n",
       "      <td>4.228300e+06</td>\n",
       "      <td>2.210000e+09</td>\n",
       "    </tr>\n",
       "  </tbody>\n",
       "</table>\n",
       "</div>"
      ],
      "text/plain": [
       "            BOROUGH  RESIDENTIAL UNITS  COMMERCIAL UNITS   TOTAL UNITS  \\\n",
       "count  28297.000000       28297.000000      28297.000000  28297.000000   \n",
       "mean       3.562038           3.072446          0.340743      3.411740   \n",
       "std        1.019830          20.339813         14.270426     24.984274   \n",
       "min        1.000000           0.000000          0.000000      1.000000   \n",
       "25%        3.000000           1.000000          0.000000      1.000000   \n",
       "50%        4.000000           2.000000          0.000000      2.000000   \n",
       "75%        4.000000           2.000000          0.000000      2.000000   \n",
       "max        5.000000        1844.000000       2261.000000   2261.000000   \n",
       "\n",
       "       LAND SQUARE FEET    SALE PRICE  \n",
       "count      2.829700e+04  2.829700e+04  \n",
       "mean       4.298784e+03  1.645994e+06  \n",
       "std        3.615332e+04  1.730766e+07  \n",
       "min        2.000000e+02  1.000000e+00  \n",
       "25%        2.000000e+03  4.200000e+05  \n",
       "50%        2.500000e+03  6.100000e+05  \n",
       "75%        4.000000e+03  9.310000e+05  \n",
       "max        4.228300e+06  2.210000e+09  "
      ]
     },
     "execution_count": 16,
     "metadata": {},
     "output_type": "execute_result"
    }
   ],
   "source": [
    "df = df.drop(df[df['LAND SQUARE FEET'] <=0].index)\n",
    "df = df.drop(df[df['SALE PRICE'] <=0].index)\n",
    "df = df.drop(df[df['TOTAL UNITS'] <=0].index)\n",
    "df.describe()"
   ]
  },
  {
   "cell_type": "markdown",
   "id": "723bb4f4",
   "metadata": {},
   "source": [
    "  #   --------------------------------- Penjelasan Setiap Kolom ------------------------------------\n",
    "  \n",
    "  \n",
    "  - Borough = Lokasi properti\n",
    "  - Building Class Category = kategori kelas properti\n",
    "  - Residental Units =  jumlah unit hunian yang digunakan untuk tujuan tempat tinggal dalam sebuah bangunan atau properti\n",
    "  - Commercial Units = jumlah unit yang digunakan untuk tujuan bisnis atau komersial dalam sebuah bangunan atau properti.\n",
    "  - Total unit = total residental unit dan commercial units dalam sebuah properti\n",
    "  - Land square feet = luas properti\n",
    "  - Year built = tahun properti dibangun\n",
    "  - Sale price = harga jual properti\n",
    "  - Year = Tahun dijual\n",
    "  "
   ]
  },
  {
   "cell_type": "markdown",
   "id": "b8be9e93",
   "metadata": {},
   "source": [
    "  #   ------------------------------- Measure of Central Tendency --------------------------------"
   ]
  },
  {
   "cell_type": "markdown",
   "id": "9fb6da1a",
   "metadata": {},
   "source": [
    "## 1. Mean"
   ]
  },
  {
   "cell_type": "code",
   "execution_count": 17,
   "id": "49139dce",
   "metadata": {},
   "outputs": [
    {
     "name": "stdout",
     "output_type": "stream",
     "text": [
      "TOTAL UNITS         4.827100e+04\n",
      "LAND SQUARE FEET    6.082135e+07\n",
      "SALE PRICE          2.328835e+10\n",
      "dtype: float64\n"
     ]
    },
    {
     "name": "stderr",
     "output_type": "stream",
     "text": [
      "C:\\Users\\novir\\AppData\\Local\\Temp\\ipykernel_13332\\1456983634.py:1: FutureWarning: The default value of numeric_only in DataFrameGroupBy.sum is deprecated. In a future version, numeric_only will default to False. Either specify numeric_only or select only columns which should be valid for the function.\n",
      "  df_mean= df.groupby('Year').sum()\n"
     ]
    }
   ],
   "source": [
    "df_mean= df.groupby('Year').sum()\n",
    "df_mean=df_mean[['TOTAL UNITS', 'LAND SQUARE FEET', 'SALE PRICE']]\n",
    "mean_values= df_mean.mean()\n",
    "print(mean_values)"
   ]
  },
  {
   "cell_type": "markdown",
   "id": "84ef3df7",
   "metadata": {},
   "source": [
    "Kesimpulan dari data penjualan properti NYC tahun 2016-2017 :\n",
    "- **Rata-rata properti** yang terjual sejumlah **48.271 unit setiap tahunnya**.\n",
    "- **Rata-rata luas properti** yang terjual memiliki luas **60.821.350 square feet**.\n",
    "- **Rata-rata harga jual properti** terjual **23.2 miliar USD**."
   ]
  },
  {
   "cell_type": "markdown",
   "id": "3588a721",
   "metadata": {},
   "source": [
    "## 2. Median"
   ]
  },
  {
   "cell_type": "code",
   "execution_count": 18,
   "id": "0a654ce7",
   "metadata": {},
   "outputs": [
    {
     "name": "stderr",
     "output_type": "stream",
     "text": [
      "C:\\Users\\novir\\AppData\\Local\\Temp\\ipykernel_13332\\2398299001.py:1: FutureWarning: The default value of numeric_only in DataFrameGroupBy.sum is deprecated. In a future version, numeric_only will default to False. Either specify numeric_only or select only columns which should be valid for the function.\n",
      "  df_med= df.groupby('YEAR BUILT').sum()\n"
     ]
    },
    {
     "data": {
      "text/plain": [
       "TOTAL UNITS               267.0\n",
       "LAND SQUARE FEET       337359.5\n",
       "SALE PRICE          125553998.5\n",
       "dtype: float64"
      ]
     },
     "execution_count": 18,
     "metadata": {},
     "output_type": "execute_result"
    }
   ],
   "source": [
    "df_med= df.groupby('YEAR BUILT').sum()\n",
    "df_med= df_med[['TOTAL UNITS', 'LAND SQUARE FEET', 'SALE PRICE']]\n",
    "med_values= df_med.median()\n",
    "med_values"
   ]
  },
  {
   "cell_type": "markdown",
   "id": "c66a5385",
   "metadata": {},
   "source": [
    "Kesimpulan dari data penjualan properti NYC tahun 2016-2017 :\n",
    "- **Nilai median dari total properti** yang terjual yaitu  **267 unit setiap tahunnya**.\n",
    "- **Nilai median dari luas properti** yang terjual yaitu **337.359 square feet**.\n",
    "- **Nilai median dari harga jual properti** terjual **125.553.998 USD atau 125 juta USD**."
   ]
  },
  {
   "cell_type": "markdown",
   "id": "38b2b087",
   "metadata": {},
   "source": [
    "## 3. Modus"
   ]
  },
  {
   "cell_type": "code",
   "execution_count": 19,
   "id": "a564268a",
   "metadata": {},
   "outputs": [
    {
     "data": {
      "text/html": [
       "<div>\n",
       "<style scoped>\n",
       "    .dataframe tbody tr th:only-of-type {\n",
       "        vertical-align: middle;\n",
       "    }\n",
       "\n",
       "    .dataframe tbody tr th {\n",
       "        vertical-align: top;\n",
       "    }\n",
       "\n",
       "    .dataframe thead th {\n",
       "        text-align: right;\n",
       "    }\n",
       "</style>\n",
       "<table border=\"1\" class=\"dataframe\">\n",
       "  <thead>\n",
       "    <tr style=\"text-align: right;\">\n",
       "      <th></th>\n",
       "      <th>BOROUGH</th>\n",
       "      <th>BUILDING CLASS CATEGORY</th>\n",
       "      <th>RESIDENTIAL UNITS</th>\n",
       "      <th>COMMERCIAL UNITS</th>\n",
       "      <th>TOTAL UNITS</th>\n",
       "      <th>LAND SQUARE FEET</th>\n",
       "      <th>YEAR BUILT</th>\n",
       "      <th>SALE PRICE</th>\n",
       "      <th>SALE DATE</th>\n",
       "      <th>Year</th>\n",
       "      <th>Month</th>\n",
       "      <th>Type</th>\n",
       "    </tr>\n",
       "  </thead>\n",
       "  <tbody>\n",
       "    <tr>\n",
       "      <th>0</th>\n",
       "      <td>1</td>\n",
       "      <td>07 RENTALS - WALKUP APARTMENTS</td>\n",
       "      <td>5</td>\n",
       "      <td>0</td>\n",
       "      <td>5</td>\n",
       "      <td>1633.0</td>\n",
       "      <td>1900</td>\n",
       "      <td>6625000.0</td>\n",
       "      <td>2017-07-19</td>\n",
       "      <td>2017</td>\n",
       "      <td>7</td>\n",
       "      <td>R</td>\n",
       "    </tr>\n",
       "    <tr>\n",
       "      <th>3</th>\n",
       "      <td>1</td>\n",
       "      <td>07 RENTALS - WALKUP APARTMENTS</td>\n",
       "      <td>10</td>\n",
       "      <td>0</td>\n",
       "      <td>10</td>\n",
       "      <td>2272.0</td>\n",
       "      <td>1913</td>\n",
       "      <td>3936272.0</td>\n",
       "      <td>2016-09-23</td>\n",
       "      <td>2016</td>\n",
       "      <td>9</td>\n",
       "      <td>R</td>\n",
       "    </tr>\n",
       "  </tbody>\n",
       "</table>\n",
       "</div>"
      ],
      "text/plain": [
       "   BOROUGH                      BUILDING CLASS CATEGORY  RESIDENTIAL UNITS  \\\n",
       "0        1  07 RENTALS - WALKUP APARTMENTS                               5   \n",
       "3        1  07 RENTALS - WALKUP APARTMENTS                              10   \n",
       "\n",
       "   COMMERCIAL UNITS  TOTAL UNITS  LAND SQUARE FEET YEAR BUILT  SALE PRICE  \\\n",
       "0                 0            5            1633.0       1900   6625000.0   \n",
       "3                 0           10            2272.0       1913   3936272.0   \n",
       "\n",
       "   SALE DATE  Year Month Type  \n",
       "0 2017-07-19  2017     7    R  \n",
       "3 2016-09-23  2016     9    R  "
      ]
     },
     "execution_count": 19,
     "metadata": {},
     "output_type": "execute_result"
    }
   ],
   "source": [
    "# Tambah kolom baru 'Type'\n",
    "\n",
    "def type(row):\n",
    "    if row['RESIDENTIAL UNITS'] == 0:\n",
    "        return 'C'\n",
    "    elif row['COMMERCIAL UNITS'] == 0 :\n",
    "        return 'R'\n",
    "    else:\n",
    "        return 'M'\n",
    "df['Type']=df.apply(type, axis=1)\n",
    "df.head(2)"
   ]
  },
  {
   "cell_type": "markdown",
   "id": "7b9e38b2",
   "metadata": {},
   "source": [
    "Membuat kolom baru yaitu kolom 'Type' yang menunjukkan tipe dari properti. Berikut tipenya:\n",
    "- **'R'** menunjukkan bahwa penjualan properti tersebut hanya terdiri dari residental unit saja.\n",
    "- **'C'** menunjukkan bahwa penjualan properti tersebut hanya terdiri dari commercial unit saja.\n",
    "- **'M'** menunjukkan bahwa penjualan properti tersebut gabungan dari residental dan commercial unit."
   ]
  },
  {
   "cell_type": "code",
   "execution_count": 20,
   "id": "1f6bf2a8",
   "metadata": {},
   "outputs": [
    {
     "name": "stdout",
     "output_type": "stream",
     "text": [
      "01 ONE FAMILY DWELLINGS                    \n",
      "R\n",
      "4\n"
     ]
    }
   ],
   "source": [
    "import statistics as ss\n",
    "\n",
    "#df_mod= df[['BOROUGH', 'BUILDING CLASS CATEGORY', 'Type']]\n",
    "\n",
    "mod1= ss.mode(df['BUILDING CLASS CATEGORY'])\n",
    "print(mod1)\n",
    "\n",
    "mod2= ss.mode(df['Type'])\n",
    "print(mod2)\n",
    "\n",
    "mod3= ss.mode(df['BOROUGH'])\n",
    "print(mod3)"
   ]
  },
  {
   "cell_type": "markdown",
   "id": "595b677d",
   "metadata": {},
   "source": [
    "Dalam dataframe tersebut modus yang didapatkan yaitu :\n",
    "- Kategori kelas properti yang **paling laris** yaitu kategori **01 ONE FAMILY DWELLINGS**. \n",
    "- Transaksi properti yang **paling sering dilakukan** yaitu kategori **Resident** atau jenis unit hunian.\n",
    "- Properti yang paling laris terjual di tahun 2016-2017 yaitu properti yang terletak di **Queens**."
   ]
  },
  {
   "cell_type": "markdown",
   "id": "aa1ab0ce",
   "metadata": {},
   "source": [
    "#   -------------------------------------- Measure of Spread -------------------------------------------"
   ]
  },
  {
   "cell_type": "markdown",
   "id": "261c4ba0",
   "metadata": {},
   "source": [
    "## 1. Range/Jangkauan"
   ]
  },
  {
   "cell_type": "code",
   "execution_count": 21,
   "id": "04613c52",
   "metadata": {},
   "outputs": [
    {
     "data": {
      "text/html": [
       "<div>\n",
       "<style scoped>\n",
       "    .dataframe tbody tr th:only-of-type {\n",
       "        vertical-align: middle;\n",
       "    }\n",
       "\n",
       "    .dataframe tbody tr th {\n",
       "        vertical-align: top;\n",
       "    }\n",
       "\n",
       "    .dataframe thead th {\n",
       "        text-align: right;\n",
       "    }\n",
       "</style>\n",
       "<table border=\"1\" class=\"dataframe\">\n",
       "  <thead>\n",
       "    <tr style=\"text-align: right;\">\n",
       "      <th></th>\n",
       "      <th>TOTAL UNITS</th>\n",
       "      <th>LAND SQUARE FEET</th>\n",
       "      <th>SALE PRICE</th>\n",
       "    </tr>\n",
       "  </thead>\n",
       "  <tbody>\n",
       "    <tr>\n",
       "      <th>min</th>\n",
       "      <td>1</td>\n",
       "      <td>200.0</td>\n",
       "      <td>1.000000e+00</td>\n",
       "    </tr>\n",
       "    <tr>\n",
       "      <th>max</th>\n",
       "      <td>2261</td>\n",
       "      <td>4228300.0</td>\n",
       "      <td>2.210000e+09</td>\n",
       "    </tr>\n",
       "  </tbody>\n",
       "</table>\n",
       "</div>"
      ],
      "text/plain": [
       "     TOTAL UNITS  LAND SQUARE FEET    SALE PRICE\n",
       "min            1             200.0  1.000000e+00\n",
       "max         2261         4228300.0  2.210000e+09"
      ]
     },
     "execution_count": 21,
     "metadata": {},
     "output_type": "execute_result"
    }
   ],
   "source": [
    "df_range=df[['TOTAL UNITS','LAND SQUARE FEET','SALE PRICE']]\n",
    "range= df_range.agg([\"min\",\"max\"])\n",
    "range"
   ]
  },
  {
   "cell_type": "code",
   "execution_count": 22,
   "id": "bd3c7686",
   "metadata": {},
   "outputs": [
    {
     "name": "stdout",
     "output_type": "stream",
     "text": [
      "2260 4228100.0 2209999999.0\n"
     ]
    }
   ],
   "source": [
    "range1= df_range['TOTAL UNITS'].max()-df_range['TOTAL UNITS'].min()\n",
    "range2= df_range['LAND SQUARE FEET'].max()-df_range['LAND SQUARE FEET'].min()\n",
    "range3= df_range['SALE PRICE'].max()-df_range['SALE PRICE'].min()\n",
    "\n",
    "print(range1, range2, range3)"
   ]
  },
  {
   "cell_type": "markdown",
   "id": "010f7492",
   "metadata": {},
   "source": [
    "Kesimpulan hasil di atas berdasarkan data penjualan properti 2016-2017:\n",
    "- Properti yang terjual memiliki total unit paling sedikit 1 dan paling banyak 2261. Sehingga, jangkauan atau selisih properti dengan unit paling banyak dan paling sedikit yaitu **2260.** Hal tersebut menggambarkan bahwa penjualan properti yang dilakukan mulai dari penjualan 1 unit apartemen hingga beberapa 2260 unit properti dimana bisa saja 2260 unit tersebut merupakan 1 kesatuan bangunan. \n",
    "- Properti yang terjual memiliki luas paling sedikit 4.228.300 square feet dan paling sedikit 200  square feet. Sehingga, jangkauan atau selisih properti dengan luas paling banyak dan paling sedikit yaitu **4.228.100.**\n",
    "- Properti yang terjual dibeli dengan harga paling rendah 1 USD dan paling mahal 2.210.000.000 USD. Sehingga, jangkauan atau selisih properti dengan harga paling mahal dan paling murah yaitu **2.209.999.999.** Nilai ini tidak masuk akal karena terdapat harga jual bernilai mendekati nol atau sama dengan nol sebab properti tersebut berpindah kepemilikan tanpa adanya harga jual seperti pemberian warisan, dll."
   ]
  },
  {
   "cell_type": "markdown",
   "id": "cacb4ff2",
   "metadata": {},
   "source": [
    "## 2. Variance/Variasi"
   ]
  },
  {
   "cell_type": "code",
   "execution_count": 23,
   "id": "5b76c3dc",
   "metadata": {},
   "outputs": [
    {
     "name": "stdout",
     "output_type": "stream",
     "text": [
      "<class 'pandas.core.frame.DataFrame'>\n",
      "Int64Index: 28297 entries, 0 to 84547\n",
      "Data columns (total 12 columns):\n",
      " #   Column                   Non-Null Count  Dtype         \n",
      "---  ------                   --------------  -----         \n",
      " 0   BOROUGH                  28297 non-null  int64         \n",
      " 1   BUILDING CLASS CATEGORY  28297 non-null  object        \n",
      " 2   RESIDENTIAL UNITS        28297 non-null  int64         \n",
      " 3   COMMERCIAL UNITS         28297 non-null  int64         \n",
      " 4   TOTAL UNITS              28297 non-null  int64         \n",
      " 5   LAND SQUARE FEET         28297 non-null  float64       \n",
      " 6   YEAR BUILT               28297 non-null  object        \n",
      " 7   SALE PRICE               28297 non-null  float64       \n",
      " 8   SALE DATE                28297 non-null  datetime64[ns]\n",
      " 9   Year                     28297 non-null  object        \n",
      " 10  Month                    28297 non-null  object        \n",
      " 11  Type                     28297 non-null  object        \n",
      "dtypes: datetime64[ns](1), float64(2), int64(4), object(5)\n",
      "memory usage: 2.8+ MB\n"
     ]
    }
   ],
   "source": [
    "df.info()"
   ]
  },
  {
   "cell_type": "code",
   "execution_count": 24,
   "id": "92ff4e9b",
   "metadata": {},
   "outputs": [
    {
     "data": {
      "text/plain": [
       "TOTAL UNITS         6.242139e+02\n",
       "LAND SQUARE FEET    1.307063e+09\n",
       "SALE PRICE          2.995550e+14\n",
       "dtype: float64"
      ]
     },
     "execution_count": 24,
     "metadata": {},
     "output_type": "execute_result"
    }
   ],
   "source": [
    "var= df[['TOTAL UNITS','LAND SQUARE FEET','SALE PRICE']].agg('var')\n",
    "var"
   ]
  },
  {
   "cell_type": "markdown",
   "id": "51364fd9",
   "metadata": {},
   "source": [
    "Kesimpulan hasil di atas berdasarkan data penjualan properti 2016-2017:\n",
    "- Nilai variance dari data total unit yaitu **6.24.**\n",
    "- Nilai variance dari data land square feet yaitu **1307063000.**\n",
    "- Nilai variance dari data sale price yaitu **299.555.000.000.000.** Nilai ini tidak masuk akal karena terdapat harga jual bernilai mendekati nol atau sama dengan nol sebab properti tersebut berpindah kepemilikan tanpa adanya harga jual seperti pemberian warisan, dll."
   ]
  },
  {
   "cell_type": "markdown",
   "id": "7e083e0f",
   "metadata": {},
   "source": [
    "## 3. Standart Deviation"
   ]
  },
  {
   "cell_type": "code",
   "execution_count": 25,
   "id": "be4190ee",
   "metadata": {},
   "outputs": [
    {
     "data": {
      "text/plain": [
       "TOTAL UNITS         2.498427e+01\n",
       "LAND SQUARE FEET    3.615332e+04\n",
       "SALE PRICE          1.730766e+07\n",
       "dtype: float64"
      ]
     },
     "execution_count": 25,
     "metadata": {},
     "output_type": "execute_result"
    }
   ],
   "source": [
    "std= df[['TOTAL UNITS','LAND SQUARE FEET','SALE PRICE']].agg('std')\n",
    "std"
   ]
  },
  {
   "cell_type": "markdown",
   "id": "2ed035df",
   "metadata": {},
   "source": [
    "Kesimpulan hasil di atas berdasarkan data penjualan properti 2016-2017:\n",
    "- Nilai standar deviasi dari data total unit yaitu **24.**\n",
    "- Nilai standar deviasi dari data land square feet yaitu **36.153.**\n",
    "- Nilai standar deviasi dari data sale price yaitu **17.307.660.**"
   ]
  },
  {
   "cell_type": "markdown",
   "id": "a04b1435",
   "metadata": {},
   "source": [
    "#   -------------------------------------------- Pertanyaan -----------------------------------------------"
   ]
  },
  {
   "cell_type": "markdown",
   "id": "9512c99f",
   "metadata": {},
   "source": [
    "## 1. Is there a difference in unit sold between property built in 1900-2000 and 2001 so on?"
   ]
  },
  {
   "cell_type": "markdown",
   "id": "d5e6e1fd",
   "metadata": {},
   "source": [
    "## --------------------------------------------------- Uji Hipotesis -----------------------------------------------------------"
   ]
  },
  {
   "cell_type": "markdown",
   "id": "1cb568e6",
   "metadata": {},
   "source": [
    "Berdasarkan pertanyaan tersebut dapat dibuat sebuah hipotesis sebagai berikut:\n",
    "- Apakah rata-rata penjualan properti tua sama dengan properti baru ( Hipotesis nol)\n",
    "- Apakah rata-rata penjualan properti tua tidak sama dengan properti baru ( Hipotesis alternatif)\n",
    "    \n",
    "    **Ho adalah μ old = μ current**\n",
    "    \n",
    "    **Ha adalah μ old ≠ μ current**\n",
    "\n",
    "Catatan :\n",
    "  - Properti tua (old) = properti yang dibangun tahun 1900-2000.\n",
    "  - Properti baru (current) = properti yang dibangung tahun 2001 dan seterusnya"
   ]
  },
  {
   "cell_type": "code",
   "execution_count": 26,
   "id": "c65b1724",
   "metadata": {},
   "outputs": [
    {
     "name": "stderr",
     "output_type": "stream",
     "text": [
      "C:\\Users\\novir\\AppData\\Local\\Temp\\ipykernel_13332\\1529268391.py:3: FutureWarning: The default value of numeric_only in DataFrameGroupBy.sum is deprecated. In a future version, numeric_only will default to False. Either specify numeric_only or select only columns which should be valid for the function.\n",
      "  grup=df.groupby('YEAR BUILT').sum()\n"
     ]
    }
   ],
   "source": [
    "# Siapkan data properti tua dan properti baru\n",
    "\n",
    "grup=df.groupby('YEAR BUILT').sum()\n",
    "grup.reset_index(inplace=True)\n",
    "\n",
    "old =grup[grup[\"YEAR BUILT\"]<= '2000']\n",
    "current =grup[grup[\"YEAR BUILT\"]>='2001']"
   ]
  },
  {
   "cell_type": "code",
   "execution_count": 27,
   "id": "46a51fc5",
   "metadata": {},
   "outputs": [
    {
     "name": "stdout",
     "output_type": "stream",
     "text": [
      "T-Statistic: 1.3205706306264262\n",
      "P-Value: 0.18924409473918014\n",
      "Tidak cukup bukti untuk menolak Hipotesis Nol: Rata-rata penjualan properti  sama dengan rata-rata usia populasi B\n"
     ]
    }
   ],
   "source": [
    "import pandas as pd\n",
    "from scipy import stats\n",
    "\n",
    "\n",
    "# Melakukan uji t independent (two-sample t-test)\n",
    "t_stat, p_value = stats.ttest_ind(old['TOTAL UNITS'], current['TOTAL UNITS'])\n",
    "\n",
    "# Menampilkan hasil uji t\n",
    "print(\"T-Statistic:\", t_stat)\n",
    "print(\"P-Value:\", p_value)\n",
    "\n",
    "# Ambang signifikansi (alpha)\n",
    "alpha = 0.05\n",
    "\n",
    "# Menguji hipotesis dengan ambang signifikansi 0.05\n",
    "if p_value < alpha:\n",
    "    print(\"Hipotesis Nol ditolak: Rata-rata usia populasi A tidak sama dengan rata-rata usia populasi B\")\n",
    "else:\n",
    "    print(\"Tidak cukup bukti untuk menolak Hipotesis Nol: Rata-rata penjualan properti  sama dengan rata-rata usia populasi B\")"
   ]
  },
  {
   "cell_type": "markdown",
   "id": "ad237ef3",
   "metadata": {},
   "source": [
    "Note : Pengujian hipotesis ini merupakan pengujian hipotesis two-side dengan significant level 0,05.\n",
    "\n",
    "Diperoleh :\n",
    "    **Tidak terdapat perbedaan yang signifikan antara dua populasi.**\n",
    "    \n",
    "- Sehingga, rata-rata penjualan properti tua sama dengan properti baru\n",
    "- Hasil kurang dari 0,05 atau gagal menolak hipotesis nol."
   ]
  },
  {
   "cell_type": "markdown",
   "id": "2903e6c1",
   "metadata": {},
   "source": [
    "## -------------------------------------------------- Cek Distribusi Data ---------------------------------------------------"
   ]
  },
  {
   "cell_type": "code",
   "execution_count": 61,
   "id": "727d3b7e",
   "metadata": {},
   "outputs": [
    {
     "name": "stderr",
     "output_type": "stream",
     "text": [
      "C:\\Users\\novir\\AppData\\Local\\Temp\\ipykernel_13332\\1121453042.py:2: SettingWithCopyWarning: \n",
      "A value is trying to be set on a copy of a slice from a DataFrame.\n",
      "Try using .loc[row_indexer,col_indexer] = value instead\n",
      "\n",
      "See the caveats in the documentation: https://pandas.pydata.org/pandas-docs/stable/user_guide/indexing.html#returning-a-view-versus-a-copy\n",
      "  old['TOTAL UNITS'] = np.log(old['TOTAL UNITS'])\n",
      "C:\\Users\\novir\\AppData\\Local\\Temp\\ipykernel_13332\\1121453042.py:3: SettingWithCopyWarning: \n",
      "A value is trying to be set on a copy of a slice from a DataFrame.\n",
      "Try using .loc[row_indexer,col_indexer] = value instead\n",
      "\n",
      "See the caveats in the documentation: https://pandas.pydata.org/pandas-docs/stable/user_guide/indexing.html#returning-a-view-versus-a-copy\n",
      "  current['TOTAL UNITS'] = np.log(current['TOTAL UNITS'])\n"
     ]
    }
   ],
   "source": [
    "# Melakukan operasi logaritma pada kolom DataFrame menggunakan NumPy\n",
    "old['TOTAL UNITS'] = np.log(old['TOTAL UNITS'])\n",
    "current['TOTAL UNITS'] = np.log(current['TOTAL UNITS'])"
   ]
  },
  {
   "cell_type": "code",
   "execution_count": 62,
   "id": "f376921e",
   "metadata": {},
   "outputs": [
    {
     "name": "stderr",
     "output_type": "stream",
     "text": [
      "C:\\Users\\novir\\AppData\\Local\\Temp\\ipykernel_13332\\3657613099.py:6: FutureWarning: \n",
      "\n",
      "`shade` is now deprecated in favor of `fill`; setting `fill=True`.\n",
      "This will become an error in seaborn v0.14.0; please update your code.\n",
      "\n",
      "  sns.kdeplot(old['TOTAL UNITS'], label='Rata-Rata Penjualan Bangunan 1900-2000', shade=True)\n",
      "C:\\Users\\novir\\AppData\\Local\\Temp\\ipykernel_13332\\3657613099.py:7: FutureWarning: \n",
      "\n",
      "`shade` is now deprecated in favor of `fill`; setting `fill=True`.\n",
      "This will become an error in seaborn v0.14.0; please update your code.\n",
      "\n",
      "  sns.kdeplot(current['TOTAL UNITS'], label='Rata-Rata Penjualan Bangunan 2001 so on', shade=True)\n"
     ]
    },
    {
     "data": {
      "image/png": "[encoded data removed]",
      "text/plain": [
       "<Figure size 1000x600 with 1 Axes>"
      ]
     },
     "metadata": {},
     "output_type": "display_data"
    }
   ],
   "source": [
    "import matplotlib.pyplot as plt\n",
    "import seaborn as sns\n",
    "\n",
    "# Menggunakan KDE plot untuk memplot distribusi data\n",
    "plt.figure(figsize=(10, 6))\n",
    "sns.kdeplot(old['TOTAL UNITS'], label='Rata-Rata Penjualan Bangunan 1900-2000', shade=True)\n",
    "sns.kdeplot(current['TOTAL UNITS'], label='Rata-Rata Penjualan Bangunan 2001 so on', shade=True)\n",
    "\n",
    "# Menambahkan label, judul, dan legenda\n",
    "plt.xlabel('Usia')\n",
    "plt.ylabel('Density')\n",
    "plt.title('Distribusi Usia Populasi A dan B')\n",
    "plt.legend()\n",
    "\n",
    "# Menampilkan plot\n",
    "plt.show()"
   ]
  },
  {
   "cell_type": "markdown",
   "id": "83921d1f",
   "metadata": {},
   "source": [
    "Berdasarkan grafik di atas menunjukkan bahwa kedua data dari populasi tidak terdistribusi normal. Untuk memastikan hal tersebut, coba cek distribusi data menggunakan **Shapiro Wilk Test**."
   ]
  },
  {
   "cell_type": "code",
   "execution_count": 63,
   "id": "a4caed46",
   "metadata": {},
   "outputs": [
    {
     "name": "stdout",
     "output_type": "stream",
     "text": [
      "stat=0.899, p=0.000\n",
      "Probably not Gaussian\n"
     ]
    }
   ],
   "source": [
    "# Example of the Shapiro-Wilk Normality Test\n",
    "from scipy.stats import shapiro\n",
    "stat, p = shapiro(old['TOTAL UNITS'])\n",
    "print('stat=%.3f, p=%.3f' % (stat, p))\n",
    "if p > 0.05:\n",
    "    print('Probably Gaussian')\n",
    "else:\n",
    "    print('Probably not Gaussian')"
   ]
  },
  {
   "cell_type": "markdown",
   "id": "a682dcbe",
   "metadata": {},
   "source": [
    "**Kesimpulannya :** \n",
    "- Grafik menunjukkan bahwa data tidak terdistribusi normal\n",
    "- Uji Shapiro juga menunjukkan bahwa data tidak terdistribusi normal"
   ]
  },
  {
   "cell_type": "markdown",
   "id": "33f202c0",
   "metadata": {},
   "source": [
    "## ------------------------------------------------ Confidence Interval (CI) -----------------------------------------------"
   ]
  },
  {
   "cell_type": "code",
   "execution_count": 43,
   "id": "ecdec4a7",
   "metadata": {},
   "outputs": [
    {
     "name": "stdout",
     "output_type": "stream",
     "text": [
      "Confidence interval untuk perbedaan rata-rata dua populasi: (0.18924409473918014, 0.18924409473918014)\n"
     ]
    }
   ],
   "source": [
    "import statsmodels.api as sm\n",
    "\n",
    "# Confidence interval untuk perbedaan rata-rata dua populasi\n",
    "confidence_level = 0.95\n",
    "ci_low, ci_high = sm.stats.ttest_ind(old['TOTAL UNITS'], current['TOTAL UNITS'])[1], sm.stats.ttest_ind(old['TOTAL UNITS'], current['TOTAL UNITS'])[1]\n",
    "\n",
    "print(\"Confidence interval untuk perbedaan rata-rata dua populasi: ({}, {})\".format(ci_low, ci_high))"
   ]
  },
  {
   "cell_type": "markdown",
   "id": "cd7a47a9",
   "metadata": {},
   "source": [
    "**Kesimpulan**:\n",
    "\n",
    "Perbedaan rata-rata antara dua populasi diperkirakan berada di sekitar 0.18924409473918014. Dengan kata lain, ada keyakinan sebesar 95% bahwa perbedaan rata-rata antara dua populasi berada di antara nilai tersebut."
   ]
  },
  {
   "cell_type": "markdown",
   "id": "70c238a1",
   "metadata": {},
   "source": [
    "## 2. Is there a difference in unit sold based on building category?\n",
    "\n",
    "Berdasarkan hasil modus menunjukkan bahwa kategori kelas bangunan dengan jumlah transaksi paling banyak yaitu kategori **01 ONE FAMILY DWELLINGS.**"
   ]
  },
  {
   "cell_type": "markdown",
   "id": "c1642ef8",
   "metadata": {},
   "source": [
    "## -------------------------------------------------- Uji Hipotesis ----------------------------------------------------------"
   ]
  },
  {
   "cell_type": "markdown",
   "id": "c575becb",
   "metadata": {},
   "source": [
    "**Ho adalah p >= 0.5**\n",
    "\n",
    "**Ha adalah p < 0.5**\n",
    "\n",
    "\n",
    "Jenis pengujiannya yaitu left one-tailed test"
   ]
  },
  {
   "cell_type": "code",
   "execution_count": 32,
   "id": "16982a70",
   "metadata": {},
   "outputs": [
    {
     "data": {
      "text/plain": [
       "BUILDING CLASS CATEGORY\n",
       "01 ONE FAMILY DWELLINGS                        12751\n",
       "02 TWO FAMILY DWELLINGS                         9538\n",
       "03 THREE FAMILY DWELLINGS                       2150\n",
       "05 TAX CLASS 1 VACANT LAND                        38\n",
       "06 TAX CLASS 1 - OTHER                            13\n",
       "dtype: int64"
      ]
     },
     "execution_count": 32,
     "metadata": {},
     "output_type": "execute_result"
    }
   ],
   "source": [
    "grup2= df.groupby('BUILDING CLASS CATEGORY').size()   # Untuk memperoleh jumlah transaksi penjualan berdasarkan kategorinya\n",
    "grup2.head()"
   ]
  },
  {
   "cell_type": "code",
   "execution_count": 33,
   "id": "620000db",
   "metadata": {},
   "outputs": [
    {
     "name": "stdout",
     "output_type": "stream",
     "text": [
      "Proposi transaksi penjualan 01 ONE FAMILY DWELLINGS adalah 0.45061313920203555 dari total penjualan\n"
     ]
    }
   ],
   "source": [
    "# Menghitung proporsi 01 ONE FAMILY DWELLINGS pada 'BUILDING CLASS CATEGORY\n",
    "\n",
    "pop_01 = 12751/grup2.sum()\n",
    "print(f\"Proposi transaksi penjualan 01 ONE FAMILY DWELLINGS adalah {pop_01} dari total penjualan\")"
   ]
  },
  {
   "cell_type": "code",
   "execution_count": 34,
   "id": "11849837",
   "metadata": {},
   "outputs": [
    {
     "name": "stdout",
     "output_type": "stream",
     "text": [
      "Nilai Z-Score: -16.82171216018155\n",
      "P-Value: 0.0\n",
      "Hipotesis Nol ditolak: Proporsi kategori 01 tidak >= 0.05\n"
     ]
    }
   ],
   "source": [
    "# Menghitung standar deviasi populasi untuk proporsi\n",
    "std_dev = (( 0.5 * (1 - 0.5)) / grup2.sum()) ** 0.5\n",
    "# Menghitung nilai z-score\n",
    "z_score = (0.45 - 0.5) / std_dev\n",
    "\n",
    "# Menghitung nilai p menggunakan uji z\n",
    "p_value = 2 * (1 - stats.norm.cdf(abs(z_score)))\n",
    "\n",
    "# Menampilkan hasil uji hipotesis\n",
    "print(\"Nilai Z-Score:\", z_score)\n",
    "print(\"P-Value:\", p_value)\n",
    "\n",
    "# Ambang signifikansi (alpha)\n",
    "alpha = 0.05\n",
    "\n",
    "# Menguji hipotesis dengan ambang signifikansi 0.05\n",
    "if p_value < alpha:\n",
    "    print(\"Hipotesis Nol ditolak: Proporsi kategori 01 tidak >= 0.05\")\n",
    "else:\n",
    "    print(\"Tidak cukup bukti untuk menolak Hipotesis Nol: Proporsi kategori 01 <= 0.05\")"
   ]
  },
  {
   "cell_type": "markdown",
   "id": "d0878c10",
   "metadata": {},
   "source": [
    "**Kesimpulan hipotesis:**\n",
    "- Hipotesis nol ditolak dan hipotesis alternatif diterima. Sehingga, proporsi kategori 01 <= 0.05\n",
    "- Pengujian tersebut menjelaskan bahwa proporsi transaksi penjualan "
   ]
  },
  {
   "cell_type": "markdown",
   "id": "b82ecca8",
   "metadata": {},
   "source": [
    "## ----------------------------------------------------- Cek Distribusi Data -----------------------------------------------"
   ]
  },
  {
   "cell_type": "code",
   "execution_count": 49,
   "id": "3d5d5335",
   "metadata": {},
   "outputs": [],
   "source": [
    "# Melakukan operasi logaritma pada kolom DataFrame menggunakan NumPy\n",
    "grup2 = np.log(grup2)"
   ]
  },
  {
   "cell_type": "code",
   "execution_count": 58,
   "id": "0ccd9b27",
   "metadata": {},
   "outputs": [
    {
     "name": "stderr",
     "output_type": "stream",
     "text": [
      "C:\\Users\\novir\\AppData\\Local\\Temp\\ipykernel_13332\\277181330.py:3: FutureWarning: \n",
      "\n",
      "`shade` is now deprecated in favor of `fill`; setting `fill=True`.\n",
      "This will become an error in seaborn v0.14.0; please update your code.\n",
      "\n",
      "  sns.kdeplot(grup2, label=' Penjualan Properti Berdasarkan Kategori Kelas', shade=True)\n"
     ]
    },
    {
     "data": {
      "image/png": "[encoded data removed]",
      "text/plain": [
       "<Figure size 1000x600 with 1 Axes>"
      ]
     },
     "metadata": {},
     "output_type": "display_data"
    }
   ],
   "source": [
    "# Menggunakan KDE plot untuk memplot distribusi data\n",
    "plt.figure(figsize=(10, 6))\n",
    "sns.kdeplot(grup2, label=' Penjualan Properti Berdasarkan Kategori Kelas', shade=True)\n",
    "\n",
    "# Menambahkan label, judul, dan legenda\n",
    "plt.xlabel('Kategori Kelas')\n",
    "plt.ylabel('Density')\n",
    "plt.title('Distribusi Penjualan Properti Berdasarkan Kategori Kelas')\n",
    "plt.legend()\n",
    "\n",
    "# Menampilkan plot\n",
    "plt.show()"
   ]
  },
  {
   "cell_type": "markdown",
   "id": "0371ac96",
   "metadata": {},
   "source": [
    "Berdasarkan grafik di atas menunjukkan bahwa kedua data dari populasi tidak terdistribusi normal. Untuk memastikan hal tersebut, coba cek distribusi data menggunakan **Shapiro Wilk Test**."
   ]
  },
  {
   "cell_type": "code",
   "execution_count": 51,
   "id": "d44e41e8",
   "metadata": {},
   "outputs": [
    {
     "name": "stdout",
     "output_type": "stream",
     "text": [
      "stat=0.957, p=0.271\n",
      "Probably Gaussian\n"
     ]
    }
   ],
   "source": [
    "# Example of the Shapiro-Wilk Normality Test\n",
    "from scipy.stats import shapiro\n",
    "stat, p = shapiro(grup2)\n",
    "print('stat=%.3f, p=%.3f' % (stat, p))\n",
    "if p > 0.05:\n",
    "    print('Probably Gaussian')\n",
    "else:\n",
    "    print('Probably not Gaussian')"
   ]
  },
  {
   "cell_type": "markdown",
   "id": "0b7c6882",
   "metadata": {},
   "source": [
    "**Kesimpulannya :** \n",
    "- Grafik menunjukkan bahwa data terdistribusi normal\n",
    "- Uji Shapiro juga menunjukkan bahwa data terdistribusi normal"
   ]
  },
  {
   "cell_type": "markdown",
   "id": "83bc54d6",
   "metadata": {},
   "source": [
    "## ------------------------------------------------- Confidence Interval (CI) -------------------------------------------------"
   ]
  },
  {
   "cell_type": "code",
   "execution_count": 59,
   "id": "a0a2f97a",
   "metadata": {},
   "outputs": [
    {
     "name": "stdout",
     "output_type": "stream",
     "text": [
      "Confidence interval untuk proporsi: (0.4971102018840476, 0.5028897981159524)\n"
     ]
    }
   ],
   "source": [
    "# Data contoh (gantilah dengan data sebenarnya)\n",
    "successes = 0.5*grup2.sum()\n",
    "total = grup2.sum()\n",
    "\n",
    "# Confidence interval untuk proporsi\n",
    "ci_low, ci_high = sm.stats.proportion_confint(successes, total, alpha=1-0.05)\n",
    "\n",
    "print(\"Confidence interval untuk proporsi: ({}, {})\".format(ci_low, ci_high))\n"
   ]
  },
  {
   "cell_type": "markdown",
   "id": "0e7a110e",
   "metadata": {},
   "source": [
    "**Kesimpulan**:\n",
    "- Dengan tingkat kepercayaan 95%, proporsi penjualan properti dengan kelas 01 diperkirakan berada di antara 0.4998136135687435 dan 0.5001863864312566. \n",
    "- Dengan kata lain, prediksi proporsi penjualan properti dengan kelas 01 terhadap populasi berada direntang 0.4998136135687435 dan 0.5001863864312566."
   ]
  },
  {
   "cell_type": "markdown",
   "id": "2943316e",
   "metadata": {},
   "source": [
    "## 3. What can you discover about New York City real estate by looking at a year's worth of raw transaction records? Can you spot trends in the market?"
   ]
  },
  {
   "cell_type": "code",
   "execution_count": 37,
   "id": "5388e1e9",
   "metadata": {},
   "outputs": [
    {
     "data": {
      "text/html": [
       "<div>\n",
       "<style scoped>\n",
       "    .dataframe tbody tr th:only-of-type {\n",
       "        vertical-align: middle;\n",
       "    }\n",
       "\n",
       "    .dataframe tbody tr th {\n",
       "        vertical-align: top;\n",
       "    }\n",
       "\n",
       "    .dataframe thead th {\n",
       "        text-align: right;\n",
       "    }\n",
       "</style>\n",
       "<table border=\"1\" class=\"dataframe\">\n",
       "  <thead>\n",
       "    <tr style=\"text-align: right;\">\n",
       "      <th></th>\n",
       "      <th>BOROUGH</th>\n",
       "      <th>BUILDING CLASS CATEGORY</th>\n",
       "      <th>RESIDENTIAL UNITS</th>\n",
       "      <th>COMMERCIAL UNITS</th>\n",
       "      <th>TOTAL UNITS</th>\n",
       "      <th>LAND SQUARE FEET</th>\n",
       "      <th>YEAR BUILT</th>\n",
       "      <th>SALE PRICE</th>\n",
       "      <th>SALE DATE</th>\n",
       "      <th>Year</th>\n",
       "      <th>Month</th>\n",
       "      <th>Type</th>\n",
       "    </tr>\n",
       "  </thead>\n",
       "  <tbody>\n",
       "    <tr>\n",
       "      <th>0</th>\n",
       "      <td>1</td>\n",
       "      <td>07 RENTALS - WALKUP APARTMENTS</td>\n",
       "      <td>5</td>\n",
       "      <td>0</td>\n",
       "      <td>5</td>\n",
       "      <td>1633.0</td>\n",
       "      <td>1900</td>\n",
       "      <td>6625000.0</td>\n",
       "      <td>2017-07-19</td>\n",
       "      <td>2017</td>\n",
       "      <td>7</td>\n",
       "      <td>R</td>\n",
       "    </tr>\n",
       "    <tr>\n",
       "      <th>3</th>\n",
       "      <td>1</td>\n",
       "      <td>07 RENTALS - WALKUP APARTMENTS</td>\n",
       "      <td>10</td>\n",
       "      <td>0</td>\n",
       "      <td>10</td>\n",
       "      <td>2272.0</td>\n",
       "      <td>1913</td>\n",
       "      <td>3936272.0</td>\n",
       "      <td>2016-09-23</td>\n",
       "      <td>2016</td>\n",
       "      <td>9</td>\n",
       "      <td>R</td>\n",
       "    </tr>\n",
       "    <tr>\n",
       "      <th>4</th>\n",
       "      <td>1</td>\n",
       "      <td>07 RENTALS - WALKUP APARTMENTS</td>\n",
       "      <td>6</td>\n",
       "      <td>0</td>\n",
       "      <td>6</td>\n",
       "      <td>2369.0</td>\n",
       "      <td>1900</td>\n",
       "      <td>8000000.0</td>\n",
       "      <td>2016-11-17</td>\n",
       "      <td>2016</td>\n",
       "      <td>11</td>\n",
       "      <td>R</td>\n",
       "    </tr>\n",
       "    <tr>\n",
       "      <th>6</th>\n",
       "      <td>1</td>\n",
       "      <td>07 RENTALS - WALKUP APARTMENTS</td>\n",
       "      <td>8</td>\n",
       "      <td>0</td>\n",
       "      <td>8</td>\n",
       "      <td>1750.0</td>\n",
       "      <td>1920</td>\n",
       "      <td>3192840.0</td>\n",
       "      <td>2016-09-23</td>\n",
       "      <td>2016</td>\n",
       "      <td>9</td>\n",
       "      <td>R</td>\n",
       "    </tr>\n",
       "    <tr>\n",
       "      <th>9</th>\n",
       "      <td>1</td>\n",
       "      <td>08 RENTALS - ELEVATOR APARTMENTS</td>\n",
       "      <td>24</td>\n",
       "      <td>0</td>\n",
       "      <td>24</td>\n",
       "      <td>4489.0</td>\n",
       "      <td>1920</td>\n",
       "      <td>16232000.0</td>\n",
       "      <td>2016-11-07</td>\n",
       "      <td>2016</td>\n",
       "      <td>11</td>\n",
       "      <td>R</td>\n",
       "    </tr>\n",
       "  </tbody>\n",
       "</table>\n",
       "</div>"
      ],
      "text/plain": [
       "   BOROUGH                      BUILDING CLASS CATEGORY  RESIDENTIAL UNITS  \\\n",
       "0        1  07 RENTALS - WALKUP APARTMENTS                               5   \n",
       "3        1  07 RENTALS - WALKUP APARTMENTS                              10   \n",
       "4        1  07 RENTALS - WALKUP APARTMENTS                               6   \n",
       "6        1  07 RENTALS - WALKUP APARTMENTS                               8   \n",
       "9        1  08 RENTALS - ELEVATOR APARTMENTS                            24   \n",
       "\n",
       "   COMMERCIAL UNITS  TOTAL UNITS  LAND SQUARE FEET YEAR BUILT  SALE PRICE  \\\n",
       "0                 0            5            1633.0       1900   6625000.0   \n",
       "3                 0           10            2272.0       1913   3936272.0   \n",
       "4                 0            6            2369.0       1900   8000000.0   \n",
       "6                 0            8            1750.0       1920   3192840.0   \n",
       "9                 0           24            4489.0       1920  16232000.0   \n",
       "\n",
       "   SALE DATE  Year Month Type  \n",
       "0 2017-07-19  2017     7    R  \n",
       "3 2016-09-23  2016     9    R  \n",
       "4 2016-11-17  2016    11    R  \n",
       "6 2016-09-23  2016     9    R  \n",
       "9 2016-11-07  2016    11    R  "
      ]
     },
     "execution_count": 37,
     "metadata": {},
     "output_type": "execute_result"
    }
   ],
   "source": [
    "df.head()"
   ]
  },
  {
   "cell_type": "code",
   "execution_count": 44,
   "id": "772a4060",
   "metadata": {
    "scrolled": true
   },
   "outputs": [
    {
     "name": "stderr",
     "output_type": "stream",
     "text": [
      "C:\\Users\\novir\\AppData\\Local\\Temp\\ipykernel_13332\\751244658.py:1: FutureWarning: The default value of numeric_only in DataFrameGroupBy.sum is deprecated. In a future version, numeric_only will default to False. Either specify numeric_only or select only columns which should be valid for the function.\n",
      "  df.groupby('Year').sum()\n"
     ]
    },
    {
     "data": {
      "text/html": [
       "<div>\n",
       "<style scoped>\n",
       "    .dataframe tbody tr th:only-of-type {\n",
       "        vertical-align: middle;\n",
       "    }\n",
       "\n",
       "    .dataframe tbody tr th {\n",
       "        vertical-align: top;\n",
       "    }\n",
       "\n",
       "    .dataframe thead th {\n",
       "        text-align: right;\n",
       "    }\n",
       "</style>\n",
       "<table border=\"1\" class=\"dataframe\">\n",
       "  <thead>\n",
       "    <tr style=\"text-align: right;\">\n",
       "      <th></th>\n",
       "      <th>BOROUGH</th>\n",
       "      <th>RESIDENTIAL UNITS</th>\n",
       "      <th>COMMERCIAL UNITS</th>\n",
       "      <th>TOTAL UNITS</th>\n",
       "      <th>LAND SQUARE FEET</th>\n",
       "      <th>SALE PRICE</th>\n",
       "    </tr>\n",
       "    <tr>\n",
       "      <th>Year</th>\n",
       "      <th></th>\n",
       "      <th></th>\n",
       "      <th></th>\n",
       "      <th></th>\n",
       "      <th></th>\n",
       "      <th></th>\n",
       "    </tr>\n",
       "  </thead>\n",
       "  <tbody>\n",
       "    <tr>\n",
       "      <th>2016</th>\n",
       "      <td>35838</td>\n",
       "      <td>34921</td>\n",
       "      <td>5173</td>\n",
       "      <td>40078</td>\n",
       "      <td>44804449.0</td>\n",
       "      <td>1.757540e+10</td>\n",
       "    </tr>\n",
       "    <tr>\n",
       "      <th>2017</th>\n",
       "      <td>64957</td>\n",
       "      <td>52020</td>\n",
       "      <td>4469</td>\n",
       "      <td>56464</td>\n",
       "      <td>76838248.0</td>\n",
       "      <td>2.900129e+10</td>\n",
       "    </tr>\n",
       "  </tbody>\n",
       "</table>\n",
       "</div>"
      ],
      "text/plain": [
       "      BOROUGH  RESIDENTIAL UNITS  COMMERCIAL UNITS  TOTAL UNITS  \\\n",
       "Year                                                              \n",
       "2016    35838              34921              5173        40078   \n",
       "2017    64957              52020              4469        56464   \n",
       "\n",
       "      LAND SQUARE FEET    SALE PRICE  \n",
       "Year                                  \n",
       "2016        44804449.0  1.757540e+10  \n",
       "2017        76838248.0  2.900129e+10  "
      ]
     },
     "execution_count": 44,
     "metadata": {},
     "output_type": "execute_result"
    }
   ],
   "source": [
    "df.groupby('Year').sum()"
   ]
  },
  {
   "cell_type": "markdown",
   "id": "fa10faa7",
   "metadata": {},
   "source": [
    "**Berdasarkan hasil di atas dapat disimpulkan bahwa :**\n",
    "Penjualan properti mengalami kenaikkan baik dari segi total unit dan jumlah total penjualan. Namun, pada tahun 2017, unit commercial mengalami penurunan sekitar 13% penjualan sedangkan penjualan unit resident (unit hunian) mengalami kenaikkan hingga 48.9%."
   ]
  },
  {
   "cell_type": "code",
   "execution_count": 48,
   "id": "649b9509",
   "metadata": {},
   "outputs": [
    {
     "name": "stdout",
     "output_type": "stream",
     "text": [
      "0.13609124299246086 0.48964806277025286\n"
     ]
    }
   ],
   "source": [
    "y= (5173- 4469)/5173\n",
    "x= (52020-34921)/34921\n",
    "\n",
    "print(y, x)"
   ]
  }
 ],
 "metadata": {
  "kernelspec": {
   "display_name": "Python 3 (ipykernel)",
   "language": "python",
   "name": "python3"
  },
  "language_info": {
   "codemirror_mode": {
    "name": "ipython",
    "version": 3
   },
   "file_extension": ".py",
   "mimetype": "text/x-python",
   "name": "python",
   "nbconvert_exporter": "python",
   "pygments_lexer": "ipython3",
   "version": "3.11.1"
  }
 },
 "nbformat": 4,
 "nbformat_minor": 5
}
