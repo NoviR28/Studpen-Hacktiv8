{
  "cells": [
    {
      "cell_type": "markdown",
      "metadata": {
        "id": "3XpAUINxOyj0"
      },
      "source": [
        "**7 September 2023**"
      ]
    },
    {
      "cell_type": "markdown",
      "source": [
        "# IF Statement"
      ],
      "metadata": {
        "id": "0juIR3R8ZWjw"
      }
    },
    {
      "cell_type": "markdown",
      "metadata": {
        "id": "2oY_3R5NO6_N"
      },
      "source": [
        "### **If in one-line => tapi tidak disarankan**\n"
      ]
    },
    {
      "cell_type": "code",
      "execution_count": null,
      "metadata": {
        "colab": {
          "background_save": true,
          "base_uri": "https://localhost:8080/"
        },
        "id": "HRt1LOtkOvhN",
        "outputId": "3c79b780-d5b3-4f2f-abd3-bdc16d334765"
      },
      "outputs": [
        {
          "name": "stdout",
          "output_type": "stream",
          "text": [
            "<class 'tuple'>\n"
          ]
        }
      ],
      "source": [
        "# if <expression>: <statenment_!> ; <statement_2>\n",
        "data = (\"Rumah\", \"Makan\", \"Malang\")\n",
        "print(type(data))"
      ]
    },
    {
      "cell_type": "code",
      "execution_count": null,
      "metadata": {
        "colab": {
          "base_uri": "https://localhost:8080/"
        },
        "id": "1wD-neSUOvjw",
        "outputId": "3412f3f7-6c3e-4854-a470-a5ee6c5c0eed"
      },
      "outputs": [
        {
          "name": "stdout",
          "output_type": "stream",
          "text": [
            "Malang adalah Lokasinya\n",
            "Bukan lokasinya\n"
          ]
        }
      ],
      "source": [
        "# Contoh if in one-line\n",
        "\n",
        "if \"Malang\" in data: print(\"Malang adalah Lokasinya\"); print(f\"Bukan lokasinya\")\n"
      ]
    },
    {
      "cell_type": "markdown",
      "metadata": {
        "id": "mJeVP2UaRS5B"
      },
      "source": [
        "### **Contoh if dalam perintah**"
      ]
    },
    {
      "cell_type": "code",
      "execution_count": null,
      "metadata": {
        "colab": {
          "base_uri": "https://localhost:8080/"
        },
        "id": "ShVGYfs8OvmE",
        "outputId": "de75c622-923b-4dbf-c598-bb28554e1477"
      },
      "outputs": [
        {
          "name": "stdout",
          "output_type": "stream",
          "text": [
            "I prefer stay at home and watch netflix\n"
          ]
        }
      ],
      "source": [
        "# <expressione_1> if <conditional_expression_1> else <expressione_2>\n",
        "\n",
        "raining = True\n",
        "print(\"I prefer stay at home and watch netflix\" if raining else \"Lets go running\")"
      ]
    },
    {
      "cell_type": "markdown",
      "source": [
        "# For Loop"
      ],
      "metadata": {
        "id": "UzEn3qgtZv96"
      }
    },
    {
      "cell_type": "markdown",
      "source": [
        "## Contoh dalam List"
      ],
      "metadata": {
        "id": "mMx-MertZ7wK"
      }
    },
    {
      "cell_type": "code",
      "source": [
        "n= list(range(1,10,2))\n",
        "\n",
        "for i in n:\n",
        "  print(f\"Bilangan {i}\")"
      ],
      "metadata": {
        "colab": {
          "base_uri": "https://localhost:8080/"
        },
        "id": "bW5LWgBBZsHZ",
        "outputId": "42ba07c4-2f98-4fc9-8d40-145ff44d7432"
      },
      "execution_count": 1,
      "outputs": [
        {
          "output_type": "stream",
          "name": "stdout",
          "text": [
            "Bilangan 1\n",
            "Bilangan 3\n",
            "Bilangan 5\n",
            "Bilangan 7\n",
            "Bilangan 9\n"
          ]
        }
      ]
    },
    {
      "cell_type": "markdown",
      "source": [
        "## Contoh dalam dictionary"
      ],
      "metadata": {
        "id": "euACpOzCaKxL"
      }
    },
    {
      "cell_type": "code",
      "source": [
        "dict= {\"Nama\":\"Novi\", \"Umur\": 23, \"Gaji\":35_000_000}\n",
        "\n",
        "for k, d in dict.items():\n",
        "  print(k,\"yaitu\",d)"
      ],
      "metadata": {
        "colab": {
          "base_uri": "https://localhost:8080/"
        },
        "id": "HokZPGVWZsKq",
        "outputId": "fe0fda0f-4cdf-4e6e-8fbe-8c851ad54e0e"
      },
      "execution_count": 2,
      "outputs": [
        {
          "output_type": "stream",
          "name": "stdout",
          "text": [
            "Nama yaitu Novi\n",
            "Umur yaitu 23\n",
            "Gaji yaitu 35000000\n"
          ]
        }
      ]
    },
    {
      "cell_type": "markdown",
      "source": [
        "## For range()"
      ],
      "metadata": {
        "id": "GAift9yOaVVU"
      }
    },
    {
      "cell_type": "code",
      "source": [
        "for i in range(0, 100, 20):\n",
        "  print(f\"Bilangan genap{i}\")"
      ],
      "metadata": {
        "colab": {
          "base_uri": "https://localhost:8080/"
        },
        "id": "qmKg9v-9aVoo",
        "outputId": "3b54ca12-854f-4408-d8ab-ec3b77a57338"
      },
      "execution_count": 3,
      "outputs": [
        {
          "output_type": "stream",
          "name": "stdout",
          "text": [
            "Bilangan genap0\n",
            "Bilangan genap20\n",
            "Bilangan genap40\n",
            "Bilangan genap60\n",
            "Bilangan genap80\n"
          ]
        }
      ]
    },
    {
      "cell_type": "markdown",
      "source": [
        "## For looping dan if, break, pass, continue"
      ],
      "metadata": {
        "id": "rM_1IfAZahHU"
      }
    },
    {
      "cell_type": "code",
      "source": [
        "for i in range(0, 100, 20):\n",
        "  if i <50:\n",
        "    print(f\"Bilangan {i} kurang dari 50\")\n",
        "  elif i==80:\n",
        "    break\n",
        "  else:\n",
        "    print(f\"Bilangan genap {i}\")"
      ],
      "metadata": {
        "colab": {
          "base_uri": "https://localhost:8080/"
        },
        "id": "5nwO_Wi8ahX9",
        "outputId": "3728de84-1c3f-40a2-cc39-fd1efb367073"
      },
      "execution_count": 4,
      "outputs": [
        {
          "output_type": "stream",
          "name": "stdout",
          "text": [
            "Bilangan 0 kurang dari 50\n",
            "Bilangan 20 kurang dari 50\n",
            "Bilangan 40 kurang dari 50\n",
            "Bilangan genap 60\n"
          ]
        }
      ]
    },
    {
      "cell_type": "markdown",
      "source": [
        "## Contoh While True dan If menggunakan input user"
      ],
      "metadata": {
        "id": "BcBOEZTTaoyk"
      }
    },
    {
      "cell_type": "code",
      "source": [
        "while True:\n",
        "    temp = input(\"Masukkan temperatur yang akan dikonversi, eg. 45C dan 145F:\")\n",
        "    degree = int(temp[:-1])\n",
        "    satuan = temp[-1].upper()\n",
        "\n",
        "    if satuan == \"C\":\n",
        "        result = int(round((9 * degree) / 5 + 32))\n",
        "        print(f\"Temperaturnya adalah {result}C\")\n",
        "    elif satuan == \"F\":\n",
        "        result = int(round((degree - 32) * 5 / 9))\n",
        "        print(f\"Temperaturnya adalah {result}F\")\n",
        "    else:\n",
        "        print(\"Masukkan nilai yang benar\")\n",
        "        continue  # Tambahkan pernyataan continue agar iterasi berlanjut setelah kesalahan\n",
        "\n",
        "    pilihan = input(\"Apakah ingin melanjutkan? Y/N  :\")\n",
        "    if pilihan.upper() == \"N\":\n",
        "        break"
      ],
      "metadata": {
        "colab": {
          "base_uri": "https://localhost:8080/"
        },
        "id": "OibWfYwNao_b",
        "outputId": "9127ec37-7178-44bd-f426-fc490f8b2b4e"
      },
      "execution_count": 6,
      "outputs": [
        {
          "name": "stdout",
          "output_type": "stream",
          "text": [
            "Masukkan temperatur yang akan dikonversi, eg. 45C dan 145F:100f\n",
            "Temperaturnya adalah 38F\n",
            "Apakah ingin melanjutkan? Y/N  :y\n",
            "Masukkan temperatur yang akan dikonversi, eg. 45C dan 145F:150f\n",
            "Temperaturnya adalah 66F\n",
            "Apakah ingin melanjutkan? Y/N  :n\n"
          ]
        }
      ]
    }
  ],
  "metadata": {
    "colab": {
      "provenance": [],
      "toc_visible": true
    },
    "kernelspec": {
      "display_name": "Python 3",
      "name": "python3"
    },
    "language_info": {
      "name": "python"
    }
  },
  "nbformat": 4,
  "nbformat_minor": 0
}